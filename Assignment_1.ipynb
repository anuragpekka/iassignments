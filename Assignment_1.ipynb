{
 "cells": [
  {
   "cell_type": "markdown",
   "id": "219b2500",
   "metadata": {},
   "source": [
    "<h1>Assignment 1"
   ]
  },
  {
   "cell_type": "markdown",
   "id": "87c0b820",
   "metadata": {},
   "source": [
    "<b>1) In the below elements which of them are values or an expression? eg:- values can be\n",
    "integer or string and expressions will be mathematical operators.\n",
    "\n",
    "Answer.<br>\n",
    "\\* = expression<br>\n",
    "'hello' = value<br>\n",
    "-87.8 = value<br>\n",
    "\\- = expression<br>\n",
    "/ = expression<br>\n",
    "\\+ = expression<br>\n",
    "6 = value<br>\n"
   ]
  },
  {
   "cell_type": "markdown",
   "id": "beb4b595",
   "metadata": {},
   "source": [
    "<b>2) What is the difference between string and variable?\n",
    "\n",
    "Answer.<br>\n",
    "String is a data type which is combination of one or more characters.<br>\n",
    "A variable is a name given to a memory location which stores a value. It is used in a program to use that stored value.<br>"
   ]
  },
  {
   "cell_type": "markdown",
   "id": "0903d7e9",
   "metadata": {},
   "source": [
    "<b>3) Describe three different data types.\n",
    "\n",
    "Answer.<br>\n",
    "Integer - Integer consists of whole numbers(non-fractional numbers)<br>\n",
    "Float - Float is used for numbers with decimal point(fractional numbers)<br>\n",
    "List - A collection of one or more items. There can be duplicate items. The items in a list can be replaced and new items can be added.<br>"
   ]
  },
  {
   "cell_type": "markdown",
   "id": "da6625dd",
   "metadata": {},
   "source": [
    "<b>4) What is an expression made up of? What do all expressions do?\n",
    "\n",
    "Answer.<br>\n",
    "Expressions contain identifiers, literals and operators. Operators can be arithmetic and boolean operators, the function call operator () the subscription operator [], etc.\n",
    "\n",
    "An expression reduces and gives some kind of \"value\", which can be any Python object.<br>"
   ]
  },
  {
   "cell_type": "markdown",
   "id": "b8a74b81",
   "metadata": {},
   "source": [
    "<b>5) This assignment statements, like spam = 10. What is the difference between an expression and a statement?\n",
    "\n",
    "Answer.<br>\n",
    "Expressions contain identifiers, literals and operators. It can be reduced to some kind of \"value\", which can be any Python object.<br> Examples:\n",
    "\n",
    "3 + 5<br>\n",
    "x * x<br>\n",
    "[a for a in range(9)]<br>\n",
    "\n",
    "Statements on the other hand, are everything that can make up a line (or several lines) of Python code. Note that expressions are statements as well. Examples:\n",
    "\n",
    "print 42<br>\n",
    "if x: do_y()<br>\n",
    "return<br>\n",
    "a = 7<br>\n"
   ]
  },
  {
   "cell_type": "markdown",
   "id": "d0309bb2",
   "metadata": {},
   "source": [
    "<b>6) After running the following code, what does the variable bacon contain?<br>\n",
    "bacon = 22<br>\n",
    "bacon + 1<br>\n",
    "\n",
    "Answer.<br>\n",
    "22<br>"
   ]
  },
  {
   "cell_type": "markdown",
   "id": "8b44e85c",
   "metadata": {},
   "source": [
    "<b>7) What should the values of the following two terms be?<br>\n",
    "'spam' + 'spamspam'<br>\n",
    "'spam' * 3<br>\n",
    "\n",
    "Answer.<br>\n",
    "'spam' + 'spamspam' = 'spamspamspam'<br>\n",
    "'spam' * 3 = 'spamspamspam'<br>"
   ]
  },
  {
   "cell_type": "markdown",
   "id": "646d82f9",
   "metadata": {},
   "source": [
    "<b>8) Why is eggs a valid variable name while 100 is invalid?\n",
    "\n",
    "Answer.<br>\n",
    "\"eggs\" is a valid variable name because it starts with a letter.<br>\n",
    "A variable name can only contain alpha-numeric characters and underscores (A-z, 0-9, and _ )<br>\n",
    "\n",
    "100 is invalid variable name because a variable name cannot start with a number.<br>\n"
   ]
  },
  {
   "cell_type": "markdown",
   "id": "6f54bc9e",
   "metadata": {},
   "source": [
    "<b>9) What three functions can be used to get the integer, floating-point number, or string\n",
    "version of a value?\n",
    "\n",
    "Answer.<br>\n",
    "int(), float() and str()<br>"
   ]
  },
  {
   "cell_type": "markdown",
   "id": "c4a243ac",
   "metadata": {},
   "source": [
    "<b>10) Why does this expression cause an error? How can you fix it?<br>\n",
    "'I have eaten ' + 99 + ' burrito. '\n",
    "\n",
    "Answer.<br>\n",
    "This expression causes error because we are concatenating integer with string.<br>\n",
    "Fix: 'I have eaten ' + str(99) + ' burrito. '<br>"
   ]
  },
  {
   "cell_type": "code",
   "execution_count": null,
   "id": "126d94b5",
   "metadata": {},
   "outputs": [],
   "source": []
  }
 ],
 "metadata": {
  "kernelspec": {
   "display_name": "Python 3 (ipykernel)",
   "language": "python",
   "name": "python3"
  },
  "language_info": {
   "codemirror_mode": {
    "name": "ipython",
    "version": 3
   },
   "file_extension": ".py",
   "mimetype": "text/x-python",
   "name": "python",
   "nbconvert_exporter": "python",
   "pygments_lexer": "ipython3",
   "version": "3.9.7"
  }
 },
 "nbformat": 4,
 "nbformat_minor": 5
}
