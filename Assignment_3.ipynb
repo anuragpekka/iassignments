{
 "cells": [
  {
   "cell_type": "markdown",
   "id": "770728e4",
   "metadata": {},
   "source": [
    "## Python Basic - Assignment 3"
   ]
  },
  {
   "cell_type": "markdown",
   "id": "bdb85756",
   "metadata": {},
   "source": [
    "<b>1. Why are functions advantageous to have in your programs?</b>\n",
    "\n",
    "Answer:<br>\n",
    "Advantages of function are:\n",
    "- Code reuseability\n",
    "- Modularity\n",
    "- Code clearity due to modularity"
   ]
  },
  {
   "cell_type": "markdown",
   "id": "5933448c",
   "metadata": {},
   "source": [
    "<b>2. When does the code in a function run: when it's specified or when it's called?</b>\n",
    "\n",
    " Answer:<br>\n",
    " The code in a function runs when it is called."
   ]
  },
  {
   "cell_type": "markdown",
   "id": "b327ab46",
   "metadata": {},
   "source": [
    "<b>3. What statement creates a function?\n",
    "\n",
    "Answer:<br>\n",
    "<i>def</i> statement creates a function."
   ]
  },
  {
   "cell_type": "markdown",
   "id": "f57a761b",
   "metadata": {},
   "source": [
    "<b>4. What is the difference between a function and a function call?\n",
    "\n",
    "Answer:<br>\n",
    "<i>function</i> is the seperate part of code written in a block to perform a specific task or tasks.<br>\n",
    "<i>function call</i> is the way to execute the task for which the function was written."
   ]
  },
  {
   "cell_type": "markdown",
   "id": "4e26c2c5",
   "metadata": {},
   "source": [
    "<b>5. How many global scopes are there in a Python program? How many local scopes?\n",
    "\n",
    "Answer:<br>\n",
    "There's only one <i>global</i> scope in a Python program.<br>\n",
    "There can be any number of <i>local</i> scopes, i.e. as many number of functions are there in the code."
   ]
  },
  {
   "cell_type": "markdown",
   "id": "12ba2e9e",
   "metadata": {},
   "source": [
    "<b>6. What happens to variables in a local scope when the function call returns?\n",
    "\n",
    "Answer:<br>\n",
    "Variables in local scope are usable only inside a function. When the function finishes executing they don't exist."
   ]
  },
  {
   "cell_type": "markdown",
   "id": "ce725e0e",
   "metadata": {},
   "source": [
    "<b>7. What is the concept of a return value? Is it possible to have a return value in an expression?\n",
    "\n",
    "Answer:<br>\n",
    "Return value is a value that a function can return after its execution using <i>return</i> statement.<br>\n",
    "Yes, we can have a return vaue in an expression."
   ]
  },
  {
   "cell_type": "markdown",
   "id": "04a2222c",
   "metadata": {},
   "source": [
    "<b>8. If a function does not have a return statement, what is the return value of a call to that function?\n",
    "\n",
    "Answer:<br>\n",
    "Function with no return statement returns <i>None</i> value."
   ]
  },
  {
   "cell_type": "markdown",
   "id": "18f2c156",
   "metadata": {},
   "source": [
    "<b>9. How do you make a function variable refer to the global variable?\n",
    "\n",
    "Answer:<br>\n",
    "We can make a function variable refer to the global variable using <i>global</i> keyword.<br>\n",
    "Example,<br>"
   ]
  },
  {
   "cell_type": "code",
   "execution_count": 20,
   "id": "98583fcc",
   "metadata": {},
   "outputs": [
    {
     "name": "stdout",
     "output_type": "stream",
     "text": [
      "global a: 20\n",
      "local a: 10\n"
     ]
    }
   ],
   "source": [
    "a = 20\n",
    "def func():\n",
    "    global a\n",
    "    print(\"global a:\",a)\n",
    "    a = 10\n",
    "    print(\"local a:\", a)\n",
    "    \n",
    "func()"
   ]
  },
  {
   "cell_type": "markdown",
   "id": "05d8d675",
   "metadata": {},
   "source": [
    "<b>10. What is the data type of None?\n",
    "    \n",
    "Answer:<br>\n",
    "Data type of None is NoneType."
   ]
  },
  {
   "cell_type": "markdown",
   "id": "a60f1279",
   "metadata": {},
   "source": [
    "<b>11. What does the sentence import areallyourpetsnamederic do?\n",
    "\n",
    "Answer:<br>\n",
    "<i>import areallyourpetsnamederic</i> imports module named \"areallyourpetsnamederic\" in the program."
   ]
  },
  {
   "cell_type": "markdown",
   "id": "8a805f60",
   "metadata": {},
   "source": [
    "<b>12. If you had a bacon() feature in a spam module, what would you call it after importing spam?\n",
    "\n",
    "Answer:<br>\n",
    "To call bacon() present in spam module we write,<br>\n",
    "import spam<br>\n",
    "spam.bacon()<br>"
   ]
  },
  {
   "cell_type": "markdown",
   "id": "6e6809c1",
   "metadata": {},
   "source": [
    "<b>13. What can you do to save a programme from crashing if it encounters an error?\n",
    "    \n",
    "Answer:<br>\n",
    "We can use try...except block to save a programme from crashing if it encounters an error."
   ]
  },
  {
   "cell_type": "markdown",
   "id": "8cd2b995",
   "metadata": {},
   "source": [
    "<b>14. What is the purpose of the try clause? What is the purpose of the except clause?\n",
    "    \n",
    "Answer:<br>\n",
    "Inside <i>try</i> block we write code that may encounter an error.<br>\n",
    "Inside <i>except</i> block we write code to handle the error(that may occur in try block)."
   ]
  },
  {
   "cell_type": "code",
   "execution_count": null,
   "id": "ceb43c49",
   "metadata": {},
   "outputs": [],
   "source": []
  }
 ],
 "metadata": {
  "kernelspec": {
   "display_name": "Python 3 (ipykernel)",
   "language": "python",
   "name": "python3"
  },
  "language_info": {
   "codemirror_mode": {
    "name": "ipython",
    "version": 3
   },
   "file_extension": ".py",
   "mimetype": "text/x-python",
   "name": "python",
   "nbconvert_exporter": "python",
   "pygments_lexer": "ipython3",
   "version": "3.9.7"
  }
 },
 "nbformat": 4,
 "nbformat_minor": 5
}
