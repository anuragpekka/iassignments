{
 "cells": [
  {
   "cell_type": "markdown",
   "id": "994a9022",
   "metadata": {},
   "source": [
    "## Python_Basic_Assignment_20"
   ]
  },
  {
   "cell_type": "markdown",
   "id": "1",
   "metadata": {},
   "source": [
    "<b>1. Set the variable test1 to the string 'This is a test of the emergency text system,' and save test1 to a file named test.txt.</b><br><br>Answer:<br>"
   ]
  },
  {
   "cell_type": "code",
   "execution_count": 1,
   "id": "4406944b",
   "metadata": {},
   "outputs": [],
   "source": [
    "test1 = 'This is a test of the emergency text system'\n",
    "with open('test.txt', 'w') as f:\n",
    "    f.write(test1)"
   ]
  },
  {
   "cell_type": "markdown",
   "id": "2",
   "metadata": {},
   "source": [
    "<b>2. Read the contents of the file test.txt into the variable test2. Is there a difference between test 1 and test 2?</b><br><br>Answer:<br>\n",
    "No, there is no difference between test1 and test2."
   ]
  },
  {
   "cell_type": "code",
   "execution_count": 2,
   "id": "d7dd8f4d",
   "metadata": {},
   "outputs": [
    {
     "data": {
      "text/plain": [
       "'This is a test of the emergency text system'"
      ]
     },
     "execution_count": 2,
     "metadata": {},
     "output_type": "execute_result"
    }
   ],
   "source": [
    "with open(\"test.txt\", \"r\") as f:\n",
    "    test2 = f.read()\n",
    "\n",
    "test2"
   ]
  },
  {
   "cell_type": "markdown",
   "id": "3",
   "metadata": {},
   "source": [
    "<b>3. Create a CSV file called books.csv by using these lines:<br>title,author,year<br>The Weirdstone of Brisingamen,Alan Garner,1960<br>Perdido Street Station,China Miéville,2000<br>Thud!,Terry Pratchett,2005<br>The Spellman Files,Lisa Lutz,2007<br>Small Gods,Terry Pratchett,1992</b><br><br>Answer:<br>"
   ]
  },
  {
   "cell_type": "code",
   "execution_count": 3,
   "id": "a46ed264",
   "metadata": {},
   "outputs": [
    {
     "name": "stdout",
     "output_type": "stream",
     "text": [
      "[['title', 'author', 'year'], ['The Weirdstone of Brisingamen', 'Alan Garner', '1960'], ['Perdido Street Station', 'China Miéville', '2000'], ['Thud!', 'Terry Pratchett', '2005'], ['The Spellman Files', 'Lisa Lutz', '2007'], ['Small Gods', 'Terry Pratchett', '1992']]\n"
     ]
    }
   ],
   "source": [
    "import csv\n",
    "\n",
    "data = \"\"\"title,author,year\n",
    "The Weirdstone of Brisingamen,Alan Garner,1960\n",
    "Perdido Street Station,China Miéville,2000\n",
    "Thud!,Terry Pratchett,2005\n",
    "The Spellman Files,Lisa Lutz,2007\n",
    "Small Gods,Terry Pratchett,1992\"\"\"\n",
    "\n",
    "data = data.split('\\n')\n",
    "#title = data[0].split(',')\n",
    "values = []\n",
    "for d in data:\n",
    "    values.append(d.split(','))\n",
    "\n",
    "print(values)\n",
    "with open('books.csv','w',newline='') as csvfile:\n",
    "    csvwriter = csv.writer(csvfile)\n",
    "    csvwriter.writerows(values)"
   ]
  },
  {
   "cell_type": "markdown",
   "id": "4",
   "metadata": {},
   "source": [
    "<b>4. Use the sqlite3 module to create a SQLite database called books.db, and a table called books with these fields: title (text), author (text), and year (integer).</b><br><br>Answer:<br>"
   ]
  },
  {
   "cell_type": "code",
   "execution_count": 4,
   "id": "2d3b0d32",
   "metadata": {},
   "outputs": [],
   "source": [
    "import sqlite3\n",
    "\n",
    "try:\n",
    "    conn = sqlite3.connect('books.db')\n",
    "    cursor = conn.cursor()\n",
    "    query = 'CREATE TABLE books(title TEXT,  author TEXT,  year INTEGER)'\n",
    "    cursor.execute(query)\n",
    "    \n",
    "except sqlite3.Error as e:\n",
    "    print(e)\n",
    "finally:\n",
    "    if(conn):\n",
    "        conn.close()"
   ]
  },
  {
   "cell_type": "markdown",
   "id": "5",
   "metadata": {},
   "source": [
    "<b>5. Read books.csv and insert its data into the book table.</b><br><br>Answer:<br>"
   ]
  },
  {
   "cell_type": "code",
   "execution_count": 5,
   "id": "62fc902d",
   "metadata": {},
   "outputs": [
    {
     "name": "stdout",
     "output_type": "stream",
     "text": [
      "Total no. of rows: 6\n",
      "['title', 'author', 'year']\n",
      "[['The Weirdstone of Brisingamen', 'Alan Garner', '1960'], ['Perdido Street Station', 'China Miéville', '2000'], ['Thud!', 'Terry Pratchett', '2005'], ['The Spellman Files', 'Lisa Lutz', '2007'], ['Small Gods', 'Terry Pratchett', '1992']]\n",
      "query  INSERT INTO books(title,author,year) VALUES(\"The Weirdstone of Brisingamen\",\"Alan Garner\",1960)\n",
      "query  INSERT INTO books(title,author,year) VALUES(\"Perdido Street Station\",\"China Miéville\",2000)\n",
      "query  INSERT INTO books(title,author,year) VALUES(\"Thud!\",\"Terry Pratchett\",2005)\n",
      "query  INSERT INTO books(title,author,year) VALUES(\"The Spellman Files\",\"Lisa Lutz\",2007)\n",
      "query  INSERT INTO books(title,author,year) VALUES(\"Small Gods\",\"Terry Pratchett\",1992)\n"
     ]
    }
   ],
   "source": [
    "import sqlite3\n",
    "import csv\n",
    "\n",
    "rows = []\n",
    "try:\n",
    "    with open('books.csv', 'r') as csvfile:\n",
    "        # creating a csv reader object\n",
    "        csvreader = csv.reader(csvfile)\n",
    "\n",
    "        # extracting field names through first row\n",
    "        fields = next(csvreader)\n",
    "\n",
    "        # extracting each data row one by one\n",
    "        for row in csvreader:\n",
    "            rows.append(row)\n",
    "  \n",
    "        # get total number of rows\n",
    "        print(\"Total no. of rows: %d\"%(csvreader.line_num))\n",
    "        \n",
    "    print(fields)\n",
    "    print(rows)\n",
    "    \n",
    "    conn = sqlite3.connect('books.db')\n",
    "    cursor = conn.cursor()\n",
    "    for row in rows:\n",
    "        #print('row: ', row)\n",
    "        query = 'INSERT INTO books(title,author,year) VALUES(\"{}\",\"{}\",{})'.format(row[0], row[1], row[2])\n",
    "        print(\"query \", query)\n",
    "        cursor.execute(query)\n",
    "\n",
    "    conn.commit()\n",
    "    \n",
    "except Exception as e:\n",
    "    print(\"Error: \",e.with_traceback())\n",
    "finally:\n",
    "    if(conn):\n",
    "        cursor.close()\n",
    "        conn.close()"
   ]
  },
  {
   "cell_type": "markdown",
   "id": "6",
   "metadata": {},
   "source": [
    "<b>6. Select and print the title column from the book table in alphabetical order.</b><br><br>Answer:<br>"
   ]
  },
  {
   "cell_type": "code",
   "execution_count": 6,
   "id": "e0990d95",
   "metadata": {},
   "outputs": [
    {
     "name": "stdout",
     "output_type": "stream",
     "text": [
      "('Perdido Street Station',)\n",
      "('Small Gods',)\n",
      "('The Spellman Files',)\n",
      "('The Weirdstone of Brisingamen',)\n",
      "('Thud!',)\n"
     ]
    }
   ],
   "source": [
    "import sqlite3\n",
    "try:\n",
    "    conn = sqlite3.connect('books.db')\n",
    "    #cur = conn.cursor()\n",
    "    query = 'select title from books ORDER BY title ASC'\n",
    "    #cur.execute(query)\n",
    "    cursor = conn.execute(query)\n",
    "    \n",
    "    for i in cursor:\n",
    "        print(i)\n",
    "except Exception as e:\n",
    "    print(\"Error: \"+ e.with_traceback())\n",
    "finally:\n",
    "    if(conn):\n",
    "        conn.close()"
   ]
  },
  {
   "cell_type": "markdown",
   "id": "7",
   "metadata": {},
   "source": [
    "<b>7. From the book table, select and print all columns in the order of publication.</b><br><br>Answer:<br>"
   ]
  },
  {
   "cell_type": "code",
   "execution_count": 7,
   "id": "049a6c11",
   "metadata": {},
   "outputs": [
    {
     "name": "stdout",
     "output_type": "stream",
     "text": [
      "('The Weirdstone of Brisingamen', 'Alan Garner', 1960)\n",
      "('Small Gods', 'Terry Pratchett', 1992)\n",
      "('Perdido Street Station', 'China Miéville', 2000)\n",
      "('Thud!', 'Terry Pratchett', 2005)\n",
      "('The Spellman Files', 'Lisa Lutz', 2007)\n"
     ]
    }
   ],
   "source": [
    "import sqlite3\n",
    "try:\n",
    "    conn = sqlite3.connect('books.db')\n",
    "    cursor = conn.execute('select * from books order by year asc')\n",
    "    for i in cursor:\n",
    "        print(i)\n",
    "except Exception as e:\n",
    "    print('Error: ', e.with_traceback())\n",
    "finally:\n",
    "    if(conn):\n",
    "        conn.close()"
   ]
  },
  {
   "cell_type": "markdown",
   "id": "8",
   "metadata": {},
   "source": [
    "<b>8. Use the sqlalchemy module to connect to the sqlite3 database books.db that you just made in exercise 6.</b><br><br>Answer:<br>"
   ]
  },
  {
   "cell_type": "code",
   "execution_count": 8,
   "id": "6d2aee40",
   "metadata": {},
   "outputs": [
    {
     "name": "stdout",
     "output_type": "stream",
     "text": [
      "2022-02-01 17:16:43,914 INFO sqlalchemy.engine.Engine SELECT books.title, books.author, books.year \n",
      "FROM books\n",
      "2022-02-01 17:16:43,914 INFO sqlalchemy.engine.Engine [generated in 0.00146s] ()\n",
      "Rows:\n",
      "('The Weirdstone of Brisingamen', 'Alan Garner', 1960)\n",
      "('Perdido Street Station', 'China Miéville', 2000)\n",
      "('Thud!', 'Terry Pratchett', 2005)\n",
      "('The Spellman Files', 'Lisa Lutz', 2007)\n",
      "('Small Gods', 'Terry Pratchett', 1992)\n"
     ]
    }
   ],
   "source": [
    "from sqlalchemy import create_engine, MetaData, Table, Column, Integer, String\n",
    "try:\n",
    "    engine = create_engine('sqlite:///books.db', echo = True)\n",
    "    meta = MetaData()\n",
    "    books = Table(\n",
    "       'books', meta, \n",
    "       Column('title', String, primary_key = True), \n",
    "       Column('author', String), \n",
    "       Column('year', Integer), \n",
    "    )\n",
    "\n",
    "    s = books.select()\n",
    "    conn = engine.connect()\n",
    "    result = conn.execute(s)\n",
    "\n",
    "    print(\"Rows:\")\n",
    "    for i in result:\n",
    "        print(i)\n",
    "except Exception as e:\n",
    "    print(\"Error: \"+ e.with_traceback())\n",
    "finally:\n",
    "    if(conn):\n",
    "        conn.close()"
   ]
  },
  {
   "cell_type": "markdown",
   "id": "9",
   "metadata": {},
   "source": [
    "<b>9. Install the Redis server and the Python redis library (pip install redis) on your computer. Create a Redis hash called test with the fields count (1) and name ('Fester Bestertester'). Print all the fields for test.</b><br><br>Answer:<br>"
   ]
  },
  {
   "cell_type": "code",
   "execution_count": 12,
   "id": "44c66d12",
   "metadata": {},
   "outputs": [
    {
     "data": {
      "text/plain": [
       "[b'count', b'name']"
      ]
     },
     "execution_count": 12,
     "metadata": {},
     "output_type": "execute_result"
    }
   ],
   "source": [
    "import redis\n",
    "r = redis.Redis()\n",
    "test = {'count':1, 'name': 'Fester Bestertester'}\n",
    "r.mset(test)\n",
    "r.keys()"
   ]
  },
  {
   "cell_type": "markdown",
   "id": "10",
   "metadata": {},
   "source": [
    "<b>10. Increment the count field of test and print it.</b><br><br>Answer:<br>"
   ]
  },
  {
   "cell_type": "code",
   "execution_count": 13,
   "id": "541b80dd",
   "metadata": {},
   "outputs": [
    {
     "data": {
      "text/plain": [
       "'1'"
      ]
     },
     "execution_count": 13,
     "metadata": {},
     "output_type": "execute_result"
    }
   ],
   "source": [
    "c = r.get('count').decode('utf-8')\n",
    "c"
   ]
  },
  {
   "cell_type": "code",
   "execution_count": 14,
   "id": "df39c753",
   "metadata": {},
   "outputs": [
    {
     "data": {
      "text/plain": [
       "'2'"
      ]
     },
     "execution_count": 14,
     "metadata": {},
     "output_type": "execute_result"
    }
   ],
   "source": [
    "r.set('count', int(c)+1)\n",
    "r.get('count').decode('utf-8')"
   ]
  },
  {
   "cell_type": "code",
   "execution_count": null,
   "id": "69b3e0aa",
   "metadata": {},
   "outputs": [],
   "source": []
  }
 ],
 "metadata": {
  "kernelspec": {
   "display_name": "Python 3 (ipykernel)",
   "language": "python",
   "name": "python3"
  },
  "language_info": {
   "codemirror_mode": {
    "name": "ipython",
    "version": 3
   },
   "file_extension": ".py",
   "mimetype": "text/x-python",
   "name": "python",
   "nbconvert_exporter": "python",
   "pygments_lexer": "ipython3",
   "version": "3.9.7"
  }
 },
 "nbformat": 4,
 "nbformat_minor": 5
}
