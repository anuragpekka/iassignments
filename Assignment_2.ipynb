{
 "cells": [
  {
   "cell_type": "markdown",
   "id": "ba7d76fb",
   "metadata": {},
   "source": [
    "## Python Basic - Assignment 2"
   ]
  },
  {
   "cell_type": "markdown",
   "id": "e91df89c",
   "metadata": {},
   "source": [
    "<b>1) What are the two values of the Boolean data type? How do you write them?\n",
    "    \n",
    "Answer:<br>\n",
    "True and false are the two values the Boolean data type.<br>\n",
    "\n",
    "Boolean variables are written as,<br>\n",
    "a=True<br>\n",
    "b=False<br>"
   ]
  },
  {
   "cell_type": "markdown",
   "id": "6de52dc3",
   "metadata": {},
   "source": [
    "<b>2) What are the three different types of Boolean operators?\n",
    "\n",
    "Answer:\n",
    "Three types of Boolean operators are AND, OR and NOT."
   ]
  },
  {
   "cell_type": "markdown",
   "id": "de68af8d",
   "metadata": {},
   "source": [
    "<b>3) Make a list of each Boolean operator's truth tables (i.e. every possible combination of Boolean\n",
    "values for the operator and what it evaluate ).\n",
    "\n",
    "Answer:<br>\n",
    " <b><i>Statement A &nbsp;&nbsp;Statement B &nbsp;&nbsp;&nbsp;&nbsp; A AND B &nbsp;&emsp;&emsp; A OR B &nbsp;&nbsp;&nbsp; &emsp;&emsp;NOT A\n",
    "\n",
    " TRUE&emsp;&emsp;&emsp;&emsp;&nbsp;&nbsp;TRUE&emsp;&emsp;&emsp;&emsp;TRUE&emsp;&emsp;&emsp;&emsp;TRUE&emsp;&emsp;&emsp;&emsp;FALSE\n",
    "\n",
    " TRUE&emsp;&emsp;&emsp;&emsp;&nbsp;FALSE&emsp;&emsp;&emsp;&emsp;FALSE&emsp;&emsp;&emsp;&emsp;TRUE&emsp;&emsp;&emsp;&emsp;FALSE\n",
    "\n",
    " FALSE&emsp;&emsp;&emsp;&emsp;TRUE&emsp;&emsp;&emsp;&emsp;FALSE&emsp;&emsp;&emsp;&emsp;TRUE&emsp;&emsp;&emsp;&emsp;TRUE\n",
    "\n",
    " FALSE&emsp;&emsp;&emsp;&emsp;FALSE&emsp;&emsp;&emsp;&emsp;FALSE&emsp;&emsp;&emsp;&emsp;FALSE&emsp;&emsp;&emsp;&emsp;TRUE\n",
    "\n",
    "    \n"
   ]
  },
  {
   "cell_type": "markdown",
   "id": "84dc8db7",
   "metadata": {},
   "source": [
    "<b>4) What are the values of the following expressions?<br>\n",
    "(5 > 4) and (3 == 5)<br>\n",
    "not (5 > 4)<br>\n",
    "(5 > 4) or (3 == 5)<br>\n",
    "not ((5 > 4) or (3 == 5))<br>\n",
    "(True and True) and (True == False)<br>\n",
    "(not False) or (not True)<br>\n",
    "    \n",
    "Answer:<br>\n",
    "(5 > 4) and (3 == 5) : False<br>\n",
    "not (5 > 4) : False<br>\n",
    "(5 > 4) or (3 == 5) : True<br>\n",
    "not ((5 > 4) or (3 == 5)) : False<br>\n",
    "(True and True) and (True == False) : False<br>\n",
    "(not False) or (not True) : True<br>"
   ]
  },
  {
   "cell_type": "markdown",
   "id": "cf425f80",
   "metadata": {},
   "source": [
    "<b>5) What are the six comparison operators?<br>\n",
    "\n",
    "Answer:<br>\n",
    "(1) Equal to <br>(2) Not equal to <br>(3) Greater than <br>(4) Less than <br>(5) Greater than equal to<br>(6) Less than equal to\n"
   ]
  },
  {
   "cell_type": "markdown",
   "id": "07c6b01e",
   "metadata": {},
   "source": [
    "<b>6) How do you tell the difference between the equal to and assignment operators? Describe a\n",
    "condition and when you would use one.\n",
    "    \n",
    "Answer:<br>\n",
    "Equal to operator is used to compare if two values are equal. It is written as ==<br>\n",
    "Assignment operator is used to assign a value to a variable. It is written as = \n",
    "    \n",
    "Example:<br>\n",
    "Assignment Operator<br>\n",
    "a=4<br>\n",
    "b=3\n",
    "    \n",
    "To check if 'a' is equal to 'b' or not using Equal To operator<br>\n",
    "(a == b)\n"
   ]
  },
  {
   "cell_type": "markdown",
   "id": "fcc8ddf9",
   "metadata": {},
   "source": [
    "<b>7) Identify the three blocks in this code:<br>\n",
    "spam = 0<br>\n",
    "if spam == 10:<br>\n",
    "&emsp;print('eggs')<br>\n",
    "if spam > 5:<br>\n",
    "&emsp;print('bacon')<br>\n",
    "else:<br>\n",
    "&emsp;print('ham')<br>\n",
    "&emsp;print('spam')<br>\n",
    "&emsp;print('spam')<br></b>\n",
    "    \n",
    "Answer:<br>\n",
    "3 different blocks in the code are,<br>\n",
    "(1)<br>\n",
    "if spam == 10:<br>\n",
    "&emsp;print('eggs')<br>\n",
    "(2)<br>\n",
    "if spam > 5:<br>\n",
    "&emsp;print('bacon')<br>\n",
    "(3)<br>\n",
    "else:<br>\n",
    "&emsp;print('ham')<br>\n",
    "&emsp;print('spam')<br>\n",
    "&emsp;print('spam')<br></b>\n"
   ]
  },
  {
   "cell_type": "markdown",
   "id": "d3e1e64a",
   "metadata": {},
   "source": [
    "<b>8) Write code that prints Hello if 1 is stored in spam, prints Howdy if 2 is stored in spam, and prints\n",
    "Greetings! if anything else is stored in spam.\n",
    "       "
   ]
  },
  {
   "cell_type": "code",
   "execution_count": 2,
   "id": "d6c3a229",
   "metadata": {},
   "outputs": [
    {
     "name": "stdout",
     "output_type": "stream",
     "text": [
      "Howdy\n"
     ]
    }
   ],
   "source": [
    "#Answer\n",
    "spam = 2\n",
    "if spam == 1:\n",
    "    print('Hello')\n",
    "elif spam == 2:\n",
    "    print('Howdy')\n",
    "else:\n",
    "    print('Greetings!')\n"
   ]
  },
  {
   "cell_type": "markdown",
   "id": "8c57d516",
   "metadata": {},
   "source": [
    "<b>9) If your programme is stuck in an endless loop, what keys you’ll press?\n",
    "    \n",
    "Answer:<br>\n",
    "CTRL + C"
   ]
  },
  {
   "cell_type": "markdown",
   "id": "0f8f2518",
   "metadata": {},
   "source": [
    "<b>10) How can you tell the difference between break and continue?<br>\n",
    "    \n",
    "Answer:\n",
    "<br>break - When break is encountered in a loop rest of the iteration are not executed. Control comes out of the loop.\n",
    "<br>continue - When continue is encountered the code after continue is skipped in the current iteration and next iteration is executed."
   ]
  },
  {
   "cell_type": "markdown",
   "id": "f85673ce",
   "metadata": {},
   "source": [
    "<b>11) In a for loop, what is the difference between range(10), range(0, 10), and range(0, 10, 1)?\n",
    "\n",
    "Answer:<br>\n",
    "    There is no difference between range(10), range(0, 10), and range(0, 10, 1) in a for loop.<br>\n",
    "    All three will iterate through 0, 1, 2, 3, 4, 5, 6, 7, 8, 9 <br>"
   ]
  },
  {
   "cell_type": "markdown",
   "id": "dfb80b21",
   "metadata": {},
   "source": [
    "<b>12) Write a short program that prints the numbers 1 to 10 using a for loop. Then write an equivalent\n",
    "program that prints the numbers 1 to 10 using a while loop.\n",
    "\n",
    "Answer:"
   ]
  },
  {
   "cell_type": "code",
   "execution_count": 18,
   "id": "f99ed18c",
   "metadata": {},
   "outputs": [
    {
     "name": "stdout",
     "output_type": "stream",
     "text": [
      "1 2 3 4 5 6 7 8 9 10 1 2 3 4 5 6 7 8 9 10 "
     ]
    }
   ],
   "source": [
    "for i in range(1,11):\n",
    "    print(i,end=\" \")\n",
    "\n",
    "i = 1\n",
    "while(i<11):\n",
    "    print(i,end=\" \")\n",
    "    i+=1"
   ]
  },
  {
   "cell_type": "markdown",
   "id": "0cfd7908",
   "metadata": {},
   "source": [
    "<b>13) If you had a function named bacon() inside a module named spam, how would you call it after\n",
    "importing spam?\n",
    "    \n",
    "Answer:<br>\n",
    "    import spam as sp<br>\n",
    "    sp.bacon()\n"
   ]
  },
  {
   "cell_type": "code",
   "execution_count": null,
   "id": "df1c29d2",
   "metadata": {},
   "outputs": [],
   "source": []
  }
 ],
 "metadata": {
  "kernelspec": {
   "display_name": "Python 3 (ipykernel)",
   "language": "python",
   "name": "python3"
  },
  "language_info": {
   "codemirror_mode": {
    "name": "ipython",
    "version": 3
   },
   "file_extension": ".py",
   "mimetype": "text/x-python",
   "name": "python",
   "nbconvert_exporter": "python",
   "pygments_lexer": "ipython3",
   "version": "3.9.7"
  }
 },
 "nbformat": 4,
 "nbformat_minor": 5
}
