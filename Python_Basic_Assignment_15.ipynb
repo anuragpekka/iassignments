{
 "cells": [
  {
   "cell_type": "markdown",
   "id": "994a9022",
   "metadata": {},
   "source": [
    "## Python_Basic_Assignment_15"
   ]
  },
  {
   "cell_type": "markdown",
   "id": "1",
   "metadata": {},
   "source": [
    "<b>1. 1.How many seconds are in an hour? Use the interactive interpreter as a calculator and multiply the number of seconds in a minute (60) by the number of minutes in an hour (also 60).</b><br><br>Answer:<br>"
   ]
  },
  {
   "cell_type": "code",
   "execution_count": 50,
   "id": "1466949e",
   "metadata": {},
   "outputs": [
    {
     "name": "stdout",
     "output_type": "stream",
     "text": [
      "Enter number of seconds in a minute:60\n",
      "Enter number of minutes in a hour:60\n"
     ]
    }
   ],
   "source": [
    "import pyinputplus as py\n",
    "seconds_in_minute = py.inputInt(\"Enter number of seconds in a minute:\")\n",
    "minutes_in_hour = py.inputInt(\"Enter number of minutes in a hour:\")\n",
    "seconds_in_hour = minutes_in_hour * seconds_in_minute"
   ]
  },
  {
   "cell_type": "markdown",
   "id": "2",
   "metadata": {},
   "source": [
    "<b>2. Assign the result from the previous task (seconds in an hour) to a variable called seconds_per_hour.</b><br><br>Answer:<br>"
   ]
  },
  {
   "cell_type": "code",
   "execution_count": 51,
   "id": "4da7b6af",
   "metadata": {},
   "outputs": [],
   "source": [
    "seconds_per_hour = seconds_in_hour"
   ]
  },
  {
   "cell_type": "markdown",
   "id": "3",
   "metadata": {},
   "source": [
    "<b>3. How many seconds do you think there are in a day? Make use of the variables seconds per hour and minutes per hour.</b><br><br>Answer:<br>"
   ]
  },
  {
   "cell_type": "code",
   "execution_count": 52,
   "id": "94def0fe",
   "metadata": {},
   "outputs": [
    {
     "name": "stdout",
     "output_type": "stream",
     "text": [
      "86400\n",
      "86400\n"
     ]
    }
   ],
   "source": [
    "print(seconds_per_hour * 24)\n",
    "print(minutes_in_hour * seconds_in_minute *24)"
   ]
  },
  {
   "cell_type": "markdown",
   "id": "4",
   "metadata": {},
   "source": [
    "<b>4. Calculate seconds per day again, but this time save the result in a variable called seconds_per_day</b><br><br>Answer:<br>"
   ]
  },
  {
   "cell_type": "code",
   "execution_count": 53,
   "id": "0b6f15a4",
   "metadata": {},
   "outputs": [],
   "source": [
    "seconds_per_day = seconds_per_hour * 24"
   ]
  },
  {
   "cell_type": "markdown",
   "id": "5",
   "metadata": {},
   "source": [
    "<b>5. Divide seconds_per_day by seconds_per_hour. Use floating-point (/) division.</b><br><br>Answer:<br>"
   ]
  },
  {
   "cell_type": "code",
   "execution_count": 54,
   "id": "c852e798",
   "metadata": {},
   "outputs": [
    {
     "data": {
      "text/plain": [
       "24.0"
      ]
     },
     "execution_count": 54,
     "metadata": {},
     "output_type": "execute_result"
    }
   ],
   "source": [
    "seconds_per_day/seconds_per_hour"
   ]
  },
  {
   "cell_type": "markdown",
   "id": "6",
   "metadata": {},
   "source": [
    "<b>6. Divide seconds_per_day by seconds_per_hour, using integer (//) division. Did this number agree with the floating-point value from the previous question, aside from the final .0?</b><br><br>Answer:<br>\n",
    "Yes the number agree with the floating-point value from the previous question."
   ]
  },
  {
   "cell_type": "code",
   "execution_count": 55,
   "id": "c58b0d83",
   "metadata": {},
   "outputs": [
    {
     "data": {
      "text/plain": [
       "24"
      ]
     },
     "execution_count": 55,
     "metadata": {},
     "output_type": "execute_result"
    }
   ],
   "source": [
    "seconds_per_day//seconds_per_hour"
   ]
  },
  {
   "cell_type": "markdown",
   "id": "7",
   "metadata": {},
   "source": [
    "<b>7. Write a generator, genPrimes, that returns the sequence of prime numbers on successive calls to its next() method: 2, 3, 5, 7, 11, ...</b><br><br>Answer:<br>\n"
   ]
  },
  {
   "cell_type": "code",
   "execution_count": 57,
   "id": "868865e8",
   "metadata": {},
   "outputs": [
    {
     "name": "stdout",
     "output_type": "stream",
     "text": [
      "List of prime numbers= [2, 3, 5, 7, 11]\n",
      "Using next method\n",
      "2 3 5 7 11 END_prime\n"
     ]
    }
   ],
   "source": [
    "def genPrimes(last_num):\n",
    "    num = 1\n",
    "    count = 0\n",
    "    primes = []\n",
    "\n",
    "    for i in range(1, last_num+1):\n",
    "        for j in range(1, int(i/2)+1):\n",
    "            if((i%j) == 0):\n",
    "                count += 1\n",
    "        \n",
    "        if(count==1):\n",
    "            primes.append(i)\n",
    "        count = 0\n",
    "\n",
    "    print(\"List of prime numbers=\",primes)\n",
    "    return iter(primes)\n",
    "\n",
    "pr = genPrimes(11)\n",
    "\n",
    "print(\"Using next method\")\n",
    "while(1):\n",
    "    val = next(pr, 'END_prime')\n",
    "    if val == 'END_prime':\n",
    "        print(val)\n",
    "        break\n",
    "    print(val, end=\" \")"
   ]
  },
  {
   "cell_type": "code",
   "execution_count": null,
   "id": "725eb8fc",
   "metadata": {},
   "outputs": [],
   "source": []
  }
 ],
 "metadata": {
  "kernelspec": {
   "display_name": "Python 3 (ipykernel)",
   "language": "python",
   "name": "python3"
  },
  "language_info": {
   "codemirror_mode": {
    "name": "ipython",
    "version": 3
   },
   "file_extension": ".py",
   "mimetype": "text/x-python",
   "name": "python",
   "nbconvert_exporter": "python",
   "pygments_lexer": "ipython3",
   "version": "3.9.7"
  }
 },
 "nbformat": 4,
 "nbformat_minor": 5
}
