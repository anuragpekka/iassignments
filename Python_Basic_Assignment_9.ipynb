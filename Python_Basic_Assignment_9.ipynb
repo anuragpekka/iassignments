{
 "cells": [
  {
   "cell_type": "markdown",
   "id": "994a9022",
   "metadata": {},
   "source": [
    "## Python_Basic_Assignment_9"
   ]
  },
  {
   "cell_type": "markdown",
   "id": "1",
   "metadata": {},
   "source": [
    "<b>1. To what does a relative path refer?</b><br><br>Answer:<br>\n",
    "Relative path is the location of a file or directory with respect to current working directory."
   ]
  },
  {
   "cell_type": "markdown",
   "id": "2",
   "metadata": {},
   "source": [
    "<b>2. What does an absolute path start with your operating system?</b>\n",
    "<br><br>Answer:<br>\n",
    "Absolute path starts with the drive name."
   ]
  },
  {
   "cell_type": "markdown",
   "id": "3",
   "metadata": {},
   "source": [
    "<b>3. What do the functions os.getcwd() and os.chdir() do?</b><br><br>Answer:<br>\n",
    "os.getcwd() - returns Current Working Directory<br>\n",
    "os.chdir() - changes the current working directory to specified path."
   ]
  },
  {
   "cell_type": "markdown",
   "id": "4",
   "metadata": {},
   "source": [
    "<b>4.  What are the . and .. folders?</b><br><br>Answer:<br>\n",
    ". is Current Working Directory<br>\n",
    ".. is Parent Directory\n"
   ]
  },
  {
   "cell_type": "markdown",
   "id": "5",
   "metadata": {},
   "source": [
    "<b>5. In C:\\bacon\\eggs\\spam.txt, which part is the dir name, and which part is the base name?</b><br><br>Answer:<br>\n",
    "Dir name is C:\\bacon\\eggs\\\\<br>\n",
    "Base name is spam.txt"
   ]
  },
  {
   "cell_type": "markdown",
   "id": "6",
   "metadata": {},
   "source": [
    "<b>6. What are the three “mode” arguments that can be passed to the open() function?</b><br><br>Answer:<br>\n",
    "Three mode arguments of open() are read, write and append."
   ]
  },
  {
   "cell_type": "markdown",
   "id": "7",
   "metadata": {},
   "source": [
    "<b>7. What happens if an existing file is opened in write mode</b><br><br>Answer:<br>\n",
    "If existing file is opened in write mode all the previous content is overwritten."
   ]
  },
  {
   "cell_type": "markdown",
   "id": "d10d76d1",
   "metadata": {},
   "source": [
    "<b>8. How do you tell the difference between read() and readlines()?</b><br><br>Answer:<br>\n",
    "read() returns the content of a file opened in read mode as a string.<br>\n",
    "readlines() reads from a file in read mode and returns a list of all lines in the file.<br>"
   ]
  },
  {
   "cell_type": "markdown",
   "id": "27d40768",
   "metadata": {},
   "source": [
    "<b>9. What data structure does a shelf value resemble?</b><br><br>Answer:<br>\n",
    "A dictionary resembles shelf value.<br>\n",
    "Example <br>\n",
    "shelf_value = {\"item#123\": \"43.00\", \"item#124\": \"50.10\"}"
   ]
  },
  {
   "cell_type": "code",
   "execution_count": null,
   "id": "aea847cd",
   "metadata": {},
   "outputs": [],
   "source": []
  }
 ],
 "metadata": {
  "kernelspec": {
   "display_name": "Python 3 (ipykernel)",
   "language": "python",
   "name": "python3"
  },
  "language_info": {
   "codemirror_mode": {
    "name": "ipython",
    "version": 3
   },
   "file_extension": ".py",
   "mimetype": "text/x-python",
   "name": "python",
   "nbconvert_exporter": "python",
   "pygments_lexer": "ipython3",
   "version": "3.9.7"
  }
 },
 "nbformat": 4,
 "nbformat_minor": 5
}
