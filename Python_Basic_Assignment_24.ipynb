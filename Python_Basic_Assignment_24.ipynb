{
 "cells": [
  {
   "cell_type": "markdown",
   "id": "994a9022",
   "metadata": {},
   "source": [
    "## Python_Basic_Assignment_24"
   ]
  },
  {
   "cell_type": "markdown",
   "id": "1",
   "metadata": {},
   "source": [
    "<b>1. What is the relationship between def statements and lambda expressions ?</b><br><br>Answer:<br>Both are used to create a function"
   ]
  },
  {
   "cell_type": "markdown",
   "id": "2",
   "metadata": {},
   "source": [
    "<b>2. What is the benefit of lambda?</b><br><br>Answer:<br>\n",
    "It can be used where a small concise function is required.<br> It is usefull when a function is required to be passed as an argument."
   ]
  },
  {
   "cell_type": "markdown",
   "id": "3",
   "metadata": {},
   "source": [
    "<b>3. Compare and contrast map, filter, and reduce.</b><br><br>Answer:<br>\n",
    "- map() function returns a map object(which is an iterator) of the results after applying the given function to each item.<br>\n",
    "- filter() method filters the given sequence with the help of a function that tests each element in the sequence to be true or not.<br>\n",
    "- reduce() function is used to apply a particular function passed in its argument to all of the list elements mentioned in the sequence passed along."
   ]
  },
  {
   "cell_type": "markdown",
   "id": "4",
   "metadata": {},
   "source": [
    "<b>4. What are function annotations, and how are they used?</b><br><br>Answer:<br>\n",
    "Function annotations are arbitrary python expressions that are associated with various part of functions.<br> These expressions are evaluated at compile time and have no life in python’s runtime environment.\n",
    "\n",
    "The function annotations can be used by third party libraries. The type of benefits depends<br> upon the type of the library, for example\n",
    "- Python supports dynamic typing and hence no module is provided for type checking. Annotations like<br>\n",
    "<i>[def foo(a:”int”, b:”float”=5.0)  -> ”int”]</i><br>\n",
    "- String based annotations can be used by the libraries to provide better help messages at compile time regarding<br> the functionalities of various methods, classes and modules.<br>\n",
    "\n",
    "Function Annotations can be accessed by:<br>\n",
    "1. Using '\\_\\_annotation\\_\\_'\n",
    "2. Using standard module ‘pydoc’ \n",
    "3. Using standard module ‘inspect"
   ]
  },
  {
   "cell_type": "markdown",
   "id": "5",
   "metadata": {},
   "source": [
    "<b>5. What are recursive functions, and how are they used?</b><br><br>Answer:<br>\n",
    "Recursive functions are function that calls itself within their own body. In the recursive program, the solution of the <br>bigger problem is expressed in terms of smaller problems and the solution to the base case(the smallest problem) is provided.\n",
    "\n",
    "The idea is to represent a problem in terms of one or more smaller problems, and add one or more base conditions that stop the recursion. <br>For example, we compute factorial n if we know factorial of (n-1). The base case for factorial would be n = 0. We return 1 when n = 0. <br>\n",
    "Example,<br>\n",
    "\n",
    "def recur_factorial(n):<br>\n",
    "&emsp;if(n == 0):<br>\n",
    "&emsp;&emsp;return 1<br>\n",
    "&emsp;else:<br>\n",
    "&emsp;&emsp;return n*recur_factorial(n-1)<br>\n"
   ]
  },
  {
   "cell_type": "markdown",
   "id": "6",
   "metadata": {},
   "source": [
    "<b>6. What are some general design guidelines for coding functions?</b><br><br>Answer:<br>\n",
    "- Function names should be lowercase, with words separated by underscores as necessary to improve readability.\n",
    "- mixedCase is allowed only in contexts where that's already the prevailing style (e.g. threading.py), to retain backwards compatibility.\n",
    "- Always use <i>self</i> for the first argument to instance methods. Always use <i>cls</i> for the first argument to class methods.<br>\n",
    "- There should be two blank lines surrounding classes and top-level functions. \n",
    "- The methods inside of the class should be surrounded by a single blank line only. \n",
    "- The preferred method of indentation is spaces, the 4 spaces indentation is accepted and accurate, but still, most people prefer tab indentation. Please keep in mind not to mix both spaces and tabs for indentation."
   ]
  },
  {
   "cell_type": "markdown",
   "id": "7",
   "metadata": {},
   "source": [
    "<b>7. Name three or more ways that functions can communicate results to a caller.</b><br><br>Answer:<br>\n",
    "\n",
    "- return a value\n",
    "- using global variables in a function\n",
    "- call by reference"
   ]
  },
  {
   "cell_type": "code",
   "execution_count": null,
   "id": "5a43d65e",
   "metadata": {},
   "outputs": [],
   "source": []
  }
 ],
 "metadata": {
  "kernelspec": {
   "display_name": "Python 3 (ipykernel)",
   "language": "python",
   "name": "python3"
  },
  "language_info": {
   "codemirror_mode": {
    "name": "ipython",
    "version": 3
   },
   "file_extension": ".py",
   "mimetype": "text/x-python",
   "name": "python",
   "nbconvert_exporter": "python",
   "pygments_lexer": "ipython3",
   "version": "3.9.7"
  }
 },
 "nbformat": 4,
 "nbformat_minor": 5
}
