{
 "cells": [
  {
   "cell_type": "markdown",
   "id": "994a9022",
   "metadata": {},
   "source": [
    "## Python_Basic_Assignment_10"
   ]
  },
  {
   "cell_type": "markdown",
   "id": "1",
   "metadata": {},
   "source": [
    "<b>1. How do you distinguish between shutil.copy() and shutil.copytree()?</b><br><br>Answer:<br>\n",
    "<i>shutil.copy()</i> method in Python is used to copy the content of source file to destination file or directory.<br><br>\n",
    "<i>shutil.copytree()</i> method recursively copies an entire directory tree rooted at source to the destination directory."
   ]
  },
  {
   "cell_type": "markdown",
   "id": "2",
   "metadata": {},
   "source": [
    "<b>2. What function is used to rename files?</b><br><br>\n",
    "Answer:<br>\n",
    "os.rename() method in Python is used to rename a file or directory."
   ]
  },
  {
   "cell_type": "markdown",
   "id": "3",
   "metadata": {},
   "source": [
    "<b>3. What is the difference between the delete functions in the send2trash and shutil modules?</b><br><br>Answer:<br>\n",
    "Send2Trash is a small package that sends files to the Trash (or Recycle Bin) natively and on all platforms.<br>\n",
    "shutil module has delete functions which delete files and directories permanently."
   ]
  },
  {
   "cell_type": "markdown",
   "id": "4",
   "metadata": {},
   "source": [
    "<b>4. ZipFile objects have a close() method just like File objects' close() method. What ZipFile method is <br>\n",
    " equivalent to File objects' open() method?</b><br><br>Answer:<br>\n",
    "ZipFile() is the zipfile method is equivalent to File objects' open() method?"
   ]
  },
  {
   "cell_type": "markdown",
   "id": "5",
   "metadata": {},
   "source": [
    "<b>5. Create a programme that searches a folder tree for files with a certain file extension (such as .pdf or .jpg).<br> Copy these files from whatever location they are in to a new folder.</b><br><br>Answer:<br>"
   ]
  },
  {
   "cell_type": "code",
   "id": "23e9886f",
   "metadata": {},
   "source": [
    "import os\n",
    "import re\n",
    "\n",
    "file_ext = '.pdf'\n",
    "root_dir = 'F:/source'\n",
    "dest = 'F:/destination'\n",
    "if(not os.path.exists(dest)):\n",
    "    os.mkdir(dest)\n",
    "\n",
    "for root,dirs,files in os.walk(root_dir, topdown=True):\n",
    "    for f in files:\n",
    "        if re.search(file_ext+\"$\", f): #searching for file extension\n",
    "            os.rename(root+\"/\"+f, dest+\"/\"+f) #moving file\n"
   ]
  },
  {
   "cell_type": "code",
   "execution_count": null,
   "id": "184c2e43",
   "metadata": {},
   "outputs": [],
   "source": []
  }
 ],
 "metadata": {
  "kernelspec": {
   "display_name": "Python 3 (ipykernel)",
   "language": "python",
   "name": "python3"
  },
  "language_info": {
   "codemirror_mode": {
    "name": "ipython",
    "version": 3
   },
   "file_extension": ".py",
   "mimetype": "text/x-python",
   "name": "python",
   "nbconvert_exporter": "python",
   "pygments_lexer": "ipython3",
   "version": "3.9.7"
  }
 },
 "nbformat": 4,
 "nbformat_minor": 5
}
