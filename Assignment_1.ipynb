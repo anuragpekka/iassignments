{
 "cells": [
  {
   "cell_type": "markdown",
   "id": "219b2500",
   "metadata": {},
   "source": [
    "<h1>Assignment 1"
   ]
  },
  {
   "cell_type": "raw",
   "id": "b65148b2",
   "metadata": {},
   "source": [
    "1. In the below elements which of them are values or an expression? eg:- values can be\n",
    "integer or string and expressions will be mathematical operators.\n",
    "\n",
    "Answer.\n",
    "* = expression\n",
    "'hello' = value\n",
    "-87.8 = value\n",
    "- = expression\n",
    "/ = expression\n",
    "+ = expression\n",
    "6 = value\n"
   ]
  },
  {
   "cell_type": "raw",
   "id": "ffc6d546",
   "metadata": {},
   "source": [
    "2. What is the difference between string and variable?\n",
    "\n",
    "Answer.\n",
    "String is a data type which is combination of one or more characters.\n",
    "A variable is a name given to a memory location which stores a value. It is used in a program to use that stored value."
   ]
  },
  {
   "cell_type": "raw",
   "id": "06d6d7e1",
   "metadata": {},
   "source": [
    "3. Describe three different data types.\n",
    "\n",
    "Answer.\n",
    "Integer - Integer consists of whole numbers(non-fractional numbers)\n",
    "Float - Float is used for numbers with decimal point(fractional numbers)\n",
    "List - A collection of one or more items. There can be duplicate items. The items in a list can be replaced and new items can be added."
   ]
  },
  {
   "cell_type": "raw",
   "id": "7768905f",
   "metadata": {},
   "source": [
    "4. What is an expression made up of? What do all expressions do?\n",
    "\n",
    "Answer.\n",
    "Expressions contain identifiers, literals and operators. Operators can be arithmetic and boolean operators, the function call operator () the subscription operator [], etc.\n",
    "\n",
    "An expression reduces and gives some kind of \"value\", which can be any Python object.\n"
   ]
  },
  {
   "cell_type": "raw",
   "id": "918b6aa0",
   "metadata": {},
   "source": [
    "5. This assignment statements, like spam = 10. What is the difference between an expression and a statement?\n",
    "\n",
    "Answer.\n",
    "Expressions contain identifiers, literals and operators. It can be reduced to some kind of \"value\", which can be any Python object. Examples:\n",
    "\n",
    "3 + 5\n",
    "map(lambda x: x*x, range(10))\n",
    "[a.x for a in some_iterable]\n",
    "yield 7\n",
    "\n",
    "Statements on the other hand, are everything that can make up a line (or several lines) of Python code. Note that expressions are statements as well. Examples:\n",
    "\n",
    "print 42\n",
    "if x: do_y()\n",
    "return\n",
    "a = 7\n"
   ]
  },
  {
   "cell_type": "raw",
   "id": "7f1a66e4",
   "metadata": {},
   "source": [
    "6. After running the following code, what does the variable bacon contain?\n",
    "bacon = 22\n",
    "bacon + 1\n",
    "\n",
    "Answer.\n",
    "22"
   ]
  },
  {
   "cell_type": "raw",
   "id": "0e2a3488",
   "metadata": {},
   "source": [
    "7. What should the values of the following two terms be?\n",
    "'spam' + 'spamspam'\n",
    "'spam' * 3\n",
    "\n",
    "Answer.\n",
    "'spam' + 'spamspam' = 'spamspamspam'\n",
    "'spam' * 3 = 'spamspamspam'"
   ]
  },
  {
   "cell_type": "raw",
   "id": "b39684b9",
   "metadata": {},
   "source": [
    "8. Why is eggs a valid variable name while 100 is invalid?\n",
    "\n",
    "Answer.\n",
    "\"eggs\" is a valid variable name because it starts with a letter.\n",
    "A variable name can only contain alpha-numeric characters and underscores (A-z, 0-9, and _ )\n",
    "\n",
    "100 is invalid variable name because a variable name cannot start with a number.\n",
    "100 is a literal(a value).\n"
   ]
  },
  {
   "cell_type": "raw",
   "id": "a9f38e1a",
   "metadata": {},
   "source": [
    "9. What three functions can be used to get the integer, floating-point number, or string\n",
    "version of a value?\n",
    "\n",
    "Answer.\n",
    "int(), float() and str()"
   ]
  },
  {
   "cell_type": "raw",
   "id": "f8f968cd",
   "metadata": {},
   "source": [
    "10. Why does this expression cause an error? How can you fix it?\n",
    "'I have eaten ' + 99 + ' burrito. '\n",
    "\n",
    "Answer.\n",
    "'I have eaten ' + '99' + ' burrito. '"
   ]
  },
  {
   "cell_type": "code",
   "execution_count": null,
   "id": "fc5a510f",
   "metadata": {},
   "outputs": [],
   "source": []
  }
 ],
 "metadata": {
  "kernelspec": {
   "display_name": "Python 3 (ipykernel)",
   "language": "python",
   "name": "python3"
  },
  "language_info": {
   "codemirror_mode": {
    "name": "ipython",
    "version": 3
   },
   "file_extension": ".py",
   "mimetype": "text/x-python",
   "name": "python",
   "nbconvert_exporter": "python",
   "pygments_lexer": "ipython3",
   "version": "3.9.7"
  }
 },
 "nbformat": 4,
 "nbformat_minor": 5
}
