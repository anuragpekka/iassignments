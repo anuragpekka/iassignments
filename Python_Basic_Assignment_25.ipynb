{
 "cells": [
  {
   "cell_type": "markdown",
   "id": "994a9022",
   "metadata": {},
   "source": [
    "## Python_Basic_Assignment_25"
   ]
  },
  {
   "cell_type": "markdown",
   "id": "1",
   "metadata": {},
   "source": [
    "<b>1. What is the difference between enclosing a list comprehension in square brackets and parentheses?</b><br><br>Answer:<br>\n",
    "List comprehension in square brackets returns a list, an iterable object.<br>\n",
    "List comprehension in parentheses returns a generator object."
   ]
  },
  {
   "cell_type": "markdown",
   "id": "2",
   "metadata": {},
   "source": [
    "<b>2. What is the relationship between generators and iterators?</b><br><br>Answer:<br>\n",
    "Generator is used to create your own iterator function. A generator is a special type of function which does not return a single value, instead, it returns an iterator object with a sequence of values. \n",
    "\n",
    "An iterator is an object that contains a countable number of values. An iterator is an object that can be iterated upon, meaning that you can traverse <br>through all the values. Lists, tuples, dictionaries, and sets are all iterable objects."
   ]
  },
  {
   "cell_type": "markdown",
   "id": "3",
   "metadata": {},
   "source": [
    "<b>3. What are the signs that a function is a generator function?</b><br><br>Answer:<br>\n",
    "If a function contains 'yield' statement then it is generator function."
   ]
  },
  {
   "cell_type": "markdown",
   "id": "4",
   "metadata": {},
   "source": [
    "<b>4. What is the purpose of a yield statement?</b><br><br>Answer:<br>\n",
    "'yield' returns a value and pauses the execution while maintaining the internal states.\n",
    "It returns the value against the yield keyword each time it is called. "
   ]
  },
  {
   "cell_type": "markdown",
   "id": "5",
   "metadata": {},
   "source": [
    "<b>5. What is the relationship between map calls and list comprehensions? Make a comparison and contrast between the two.</b><br><br>Answer:<br>\n",
    "map() function returns a map object(which is an iterator) of the results after applying the given function to each item of a given iterable (list, tuple etc.)<br>\n",
    "- List comprehension is more concise and easier to read as compared to map.<br>\n",
    "- List comprehension allows filtering. In map, we have no such facility. For example, to print all even numbers in range of 100, we can write [n for n in range(100) if n%2 == 0]. There is no alternate for it in map<br>\n",
    "- List comprehension are used when a list of results is required as map only returns a map object and does not return any list.<br>\n",
    "- List comprehension is faster than map when we need to evaluate expressions that are too long or complicated to express\n",
    "- Map is faster in case of calling an already defined function (as no lambda is required).<br>\n"
   ]
  },
  {
   "cell_type": "code",
   "execution_count": null,
   "id": "e034604f",
   "metadata": {},
   "outputs": [],
   "source": []
  }
 ],
 "metadata": {
  "kernelspec": {
   "display_name": "Python 3 (ipykernel)",
   "language": "python",
   "name": "python3"
  },
  "language_info": {
   "codemirror_mode": {
    "name": "ipython",
    "version": 3
   },
   "file_extension": ".py",
   "mimetype": "text/x-python",
   "name": "python",
   "nbconvert_exporter": "python",
   "pygments_lexer": "ipython3",
   "version": "3.9.7"
  }
 },
 "nbformat": 4,
 "nbformat_minor": 5
}
