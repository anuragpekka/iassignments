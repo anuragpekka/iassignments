{
 "cells": [
  {
   "cell_type": "markdown",
   "id": "994a9022",
   "metadata": {},
   "source": [
    "## Python_Basic_Assignment_23"
   ]
  },
  {
   "cell_type": "markdown",
   "id": "1",
   "metadata": {},
   "source": [
    "<b>1. What is the result of the code, and why?<br>>>> def func(a, b=6, c=8):<br>print(a, b, c)<br>>>> func(1, 2)</b><br><br>Answer:<br>1 2 8<br>\n",
    "At function call arguments passed are a=1, b=2(which will override b=6). No value is passed for c so c=8."
   ]
  },
  {
   "cell_type": "markdown",
   "id": "2",
   "metadata": {},
   "source": [
    "<b>2. What is the result of this code, and why?<br>>>> def func(a, b, c=5):<br>print(a, b, c)<br>>>> func(1, c=3, b=2)</b><br><br>Answer:<br>1 2 3<br>\n",
    "At function call we are explicitly passing c=3, b=2. So for printing a,b,c we get 1 2 3"
   ]
  },
  {
   "cell_type": "markdown",
   "id": "3",
   "metadata": {},
   "source": [
    "<b>3. How about this code: what is its result, and why?<br>>>> def func(a, *pargs):<br>print(a, pargs)<br>>>> func(1, 2, 3)</b><br><br>Answer:<br>1 (2, 3)<br>\n",
    "&#42;pargs is variable length argument which takes extra arguments and puts them in a tuple.<br>Here 2,3 are passed so they are put in a tuple."
   ]
  },
  {
   "cell_type": "markdown",
   "id": "4",
   "metadata": {},
   "source": [
    "<b>4. What does this code print, and why?<br>>>> def func(a, **kargs):<br>print(a, kargs)<br>>>> func(a=1, c=3, b=2)</b><br><br>Answer:<br>1 {'c': 3, 'b': 2}<br>\n",
    "&#42;&#42;kargs is variable length argument which takes extra arguments as key:value pairs. <br>\n",
    "So, extra arguments c=3, b=2 is taken in &#42;&#42;kargs."
   ]
  },
  {
   "cell_type": "markdown",
   "id": "5",
   "metadata": {},
   "source": [
    "<b>5. What gets printed by this, and explain?<br>>>> def func(a, b, c=8, d=5): print(a, b, c, d)<br>>>> func(1, *(5, 6))</b><br><br>Answer:<br>1 5 6 5<br>\n",
    "The tuple(5,6) passed in function call is assigned to 2nd and 3rd argument, b and c."
   ]
  },
  {
   "cell_type": "markdown",
   "id": "6",
   "metadata": {},
   "source": [
    "<b>6. what is the result of this, and explain?<br>>>> def func(a, b, c): a = 2; b[0] = 'x'; c['a'] = 'y'<br>>>> l=1; m=[1]; n={'a':0}<br>>>> func(l, m, n)<br>>>> l, m, n</b><br><br>Answer:<br>(1, ['x'], {'a': 'y'})<br>\n",
    "This is example of pass by reference. The variables passed as l=1; m=[1]; n={'a':0} are overidden inside func()"
   ]
  }
 ],
 "metadata": {
  "kernelspec": {
   "display_name": "Python 3 (ipykernel)",
   "language": "python",
   "name": "python3"
  },
  "language_info": {
   "codemirror_mode": {
    "name": "ipython",
    "version": 3
   },
   "file_extension": ".py",
   "mimetype": "text/x-python",
   "name": "python",
   "nbconvert_exporter": "python",
   "pygments_lexer": "ipython3",
   "version": "3.9.7"
  }
 },
 "nbformat": 4,
 "nbformat_minor": 5
}
