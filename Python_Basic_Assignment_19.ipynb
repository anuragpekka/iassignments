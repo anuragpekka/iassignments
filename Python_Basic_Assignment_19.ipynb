{
 "cells": [
  {
   "cell_type": "markdown",
   "id": "994a9022",
   "metadata": {},
   "source": [
    "## Python_Basic_Assignment_19"
   ]
  },
  {
   "cell_type": "markdown",
   "id": "1",
   "metadata": {},
   "source": [
    "<b>1. Make a class called Thing with no contents and print it. Then, create an object called example from this class and also print it. Are the printed values the same or different?</b><br><br>Answer:<br>\n",
    "The printed values are differnt."
   ]
  },
  {
   "cell_type": "code",
   "execution_count": 40,
   "id": "998c9472",
   "metadata": {},
   "outputs": [
    {
     "name": "stdout",
     "output_type": "stream",
     "text": [
      "<class '__main__.Thing'>\n",
      "<__main__.Thing object at 0x000000562CBD9760>\n"
     ]
    }
   ],
   "source": [
    "class Thing:\n",
    "    pass\n",
    "\n",
    "print(Thing)\n",
    "\n",
    "example = Thing()\n",
    "print(example)\n"
   ]
  },
  {
   "cell_type": "markdown",
   "id": "2",
   "metadata": {},
   "source": [
    "<b>2. Create a new class called Thing2 and add the value 'abc' to the letters class attribute. Letters should be printed.</b><br><br>Answer:<br>"
   ]
  },
  {
   "cell_type": "code",
   "execution_count": 41,
   "id": "efcb8a44",
   "metadata": {},
   "outputs": [
    {
     "name": "stdout",
     "output_type": "stream",
     "text": [
      "abc\n"
     ]
    }
   ],
   "source": [
    "class Thing2:\n",
    "    letters = 'abc'\n",
    "\n",
    "print(Thing2.letters)"
   ]
  },
  {
   "cell_type": "markdown",
   "id": "3",
   "metadata": {},
   "source": [
    "<b>3. Make yet another class called, of course, Thing3. This time, assign the value 'xyz' to an instance (object) attribute called letters. Print letters. Do you need to make an object from the class to do this?</b><br><br>Answer:<br>\n",
    "Yes, we need to create object."
   ]
  },
  {
   "cell_type": "code",
   "execution_count": 42,
   "id": "9075f83b",
   "metadata": {},
   "outputs": [
    {
     "name": "stdout",
     "output_type": "stream",
     "text": [
      "xyz\n"
     ]
    }
   ],
   "source": [
    "class Thing3:\n",
    "     def __init__(self, letters):\n",
    "        self.letters = letters\n",
    "        \n",
    "obj = Thing3('xyz')\n",
    "print(obj.letters)"
   ]
  },
  {
   "cell_type": "markdown",
   "id": "4",
   "metadata": {},
   "source": [
    "<b>4. Create an Element class with the instance attributes name, symbol, and number. Create a class object with the values 'Hydrogen,' 'H,' and 1.</b><br><br>Answer:<br>"
   ]
  },
  {
   "cell_type": "code",
   "execution_count": 43,
   "id": "05dca255",
   "metadata": {},
   "outputs": [],
   "source": [
    "class Element:\n",
    "    def __init__(self, name,symbol,number):\n",
    "        self.name = name\n",
    "        self.symbol = symbol\n",
    "        self.number = number\n",
    "\n",
    "obj = Element('Hydrogen', 'H',1)"
   ]
  },
  {
   "cell_type": "markdown",
   "id": "5",
   "metadata": {},
   "source": [
    "<b>5. Make a dictionary with these keys and values: 'name': 'Hydrogen', 'symbol': 'H', 'number': 1. Then, create an object called hydrogen from class Element using this dictionary.</b><br><br>Answer:<br>"
   ]
  },
  {
   "cell_type": "code",
   "execution_count": 44,
   "id": "34ebb4bf",
   "metadata": {},
   "outputs": [],
   "source": [
    "dict_H = {'name': 'Hydrogen', 'symbol': 'H', 'number': 1}\n",
    "obj1 = Element(dict_H['name'], dict_H['symbol'], dict_H['number'])"
   ]
  },
  {
   "cell_type": "markdown",
   "id": "6",
   "metadata": {},
   "source": [
    "<b>6. For the Element class, define a method called dump() that prints the values of the object’s attributes (name, symbol, and number). Create the hydrogen object from this new definition and use dump() to print its attributes.</b><br><br>Answer:<br>"
   ]
  },
  {
   "cell_type": "code",
   "execution_count": 45,
   "id": "1ef0d745",
   "metadata": {},
   "outputs": [
    {
     "name": "stdout",
     "output_type": "stream",
     "text": [
      "Hydrogen H 1\n"
     ]
    }
   ],
   "source": [
    "class Element:\n",
    "    def __init__(self, name,symbol,number):\n",
    "        self.name = name\n",
    "        self.symbol = symbol\n",
    "        self.number = number\n",
    "\n",
    "    def dump(self):\n",
    "        print(self.name,self.symbol,self.number)\n",
    "        \n",
    "hydrogen = Element(dict_H['name'], dict_H['symbol'], dict_H['number'])\n",
    "hydrogen.dump()"
   ]
  },
  {
   "cell_type": "markdown",
   "id": "7",
   "metadata": {},
   "source": [
    "<b>7. Call print(hydrogen). In the definition of Element, change the name of method dump to __str__, create a new hydrogen object, and call print(hydrogen) again.</b><br><br>Answer:<br>"
   ]
  },
  {
   "cell_type": "code",
   "execution_count": 46,
   "id": "7d473e3d",
   "metadata": {},
   "outputs": [
    {
     "name": "stdout",
     "output_type": "stream",
     "text": [
      "<__main__.Element object at 0x000000562CBBEDF0>\n",
      "(Hydrogen,H,1)\n"
     ]
    }
   ],
   "source": [
    "print(hydrogen)\n",
    "class Element:\n",
    "    def __init__(self, name,symbol,number):\n",
    "        self.name = name\n",
    "        self.symbol = symbol\n",
    "        self.number = number\n",
    "\n",
    "    def __str__(self):        \n",
    "        return \"(\" + self.name + \",\" + self.symbol + \",\" + str(self.number) + \")\"\n",
    "\n",
    "hydrogen = Element(dict_H['name'], dict_H['symbol'], dict_H['number'])\n",
    "print(hydrogen.__str__())"
   ]
  },
  {
   "cell_type": "markdown",
   "id": "8",
   "metadata": {},
   "source": [
    "<b>8. Modify Element to make the attributes name, symbol, and number private. Define a getter property for each to return its value.</b><br><br>Answer:<br>"
   ]
  },
  {
   "cell_type": "code",
   "execution_count": 47,
   "id": "a446ecf4",
   "metadata": {},
   "outputs": [
    {
     "name": "stdout",
     "output_type": "stream",
     "text": [
      "Helium He 2\n"
     ]
    }
   ],
   "source": [
    "class Element:\n",
    "    def __init__(self, name,symbol,number):\n",
    "        self.__name = name\n",
    "        self.__symbol = symbol\n",
    "        self.__number = number\n",
    "        \n",
    "    def get_name(self):\n",
    "        return self.__name\n",
    "    \n",
    "    def get_symbol(self):\n",
    "        return self.__symbol\n",
    "    \n",
    "    def get_number(self):\n",
    "        return self.__number\n",
    "\n",
    "    def __str__(self):        \n",
    "        return \"(\" + self.name + \",\" + self.symbol + \",\" + str(self.number) + \")\"\n",
    "\n",
    "he = Element(\"Helium\",\"He\", 2)\n",
    "print(he.get_name(), he.get_symbol(), he.get_number())\n"
   ]
  },
  {
   "cell_type": "markdown",
   "id": "9",
   "metadata": {},
   "source": [
    "<b>9. Define three classes: Bear, Rabbit, and Octothorpe. For each, define only one method: eats(). This should return 'berries' (Bear), 'clover' (Rabbit), or 'campers' (Octothorpe). Create one object from each and print what it eats.</b><br><br>Answer:<br>"
   ]
  },
  {
   "cell_type": "code",
   "execution_count": 48,
   "id": "67bd4a6c",
   "metadata": {},
   "outputs": [
    {
     "name": "stdout",
     "output_type": "stream",
     "text": [
      "berries\n",
      "clover\n",
      "campers\n"
     ]
    }
   ],
   "source": [
    "class Bear:\n",
    "    def eats(self):\n",
    "        return 'berries'\n",
    "class Rabbit:\n",
    "    def eats(self):\n",
    "        return 'clover'\n",
    "class Octothorpe:\n",
    "    def eats(self):\n",
    "        return 'campers'\n",
    "    \n",
    "bear = Bear()\n",
    "print(bear.eats())\n",
    "\n",
    "rabbit = Rabbit()\n",
    "print(rabbit.eats())\n",
    "\n",
    "octo = Octothorpe()\n",
    "print(octo.eats())"
   ]
  },
  {
   "cell_type": "markdown",
   "id": "10",
   "metadata": {},
   "source": [
    "<b>10. Define these classes: Laser, Claw, and SmartPhone. Each has only one method: does(). This returns 'disintegrate' (Laser), 'crush' (Claw), or 'ring' (SmartPhone). Then, define the class Robot that has one instance (object) of each of these. Define a does() method for the Robot that prints what its component objects do.</b><br><br>Answer:<br>"
   ]
  },
  {
   "cell_type": "code",
   "execution_count": 49,
   "id": "541f6fba",
   "metadata": {},
   "outputs": [
    {
     "name": "stdout",
     "output_type": "stream",
     "text": [
      "laser does disintegrate\n",
      "claw does crush\n",
      "smartphone does ring\n"
     ]
    }
   ],
   "source": [
    "class Laser:\n",
    "    def does(self):\n",
    "        return 'disintegrate'\n",
    "    def __str__(self):\n",
    "        return 'Laser returns work of a Laser'\n",
    "\n",
    "class  Claw:\n",
    "    def does(self):\n",
    "        return 'crush'\n",
    "    def __str__(self):\n",
    "        return 'returns work of a Claw'\n",
    "            \n",
    "class SmartPhone:\n",
    "    def does(self):\n",
    "        return 'ring'\n",
    "    def __str__(self):\n",
    "        return 'returns work of a SmartPhone'\n",
    "    \n",
    "class Robot:\n",
    "    \n",
    "    def __init__(self):\n",
    "        self.laser = Laser()\n",
    "        self.claw = Claw()\n",
    "        self.smartphone = SmartPhone()\n",
    "\n",
    "    def does(self):\n",
    "        print(\"laser does \" + self.laser.does())\n",
    "        print(\"claw does \" + self.claw.does())\n",
    "        print(\"smartphone does \" + self.smartphone.does())\n",
    "        \n",
    "robo = Robot()\n",
    "robo.does()"
   ]
  }
 ],
 "metadata": {
  "kernelspec": {
   "display_name": "Python 3 (ipykernel)",
   "language": "python",
   "name": "python3"
  },
  "language_info": {
   "codemirror_mode": {
    "name": "ipython",
    "version": 3
   },
   "file_extension": ".py",
   "mimetype": "text/x-python",
   "name": "python",
   "nbconvert_exporter": "python",
   "pygments_lexer": "ipython3",
   "version": "3.9.7"
  }
 },
 "nbformat": 4,
 "nbformat_minor": 5
}
