{
 "cells": [
  {
   "cell_type": "markdown",
   "id": "994a9022",
   "metadata": {},
   "source": [
    "## Python Basic - Assignment 5"
   ]
  },
  {
   "cell_type": "markdown",
   "id": "1",
   "metadata": {},
   "source": [
    "<b>1. What does an empty dictionary's code look like?</b>\n",
    "\n",
    "Answer:<br>\n",
    "Example of empty dictionary's code,<br>\n",
    "dict1 = {}"
   ]
  },
  {
   "cell_type": "markdown",
   "id": "2",
   "metadata": {},
   "source": [
    "<b>2. What is the value of a dictionary value with the key 'foo' and the value 42?</b>\n",
    "\n",
    "Answer:<br>\n",
    "{'foo': 42}"
   ]
  },
  {
   "cell_type": "markdown",
   "id": "3",
   "metadata": {},
   "source": [
    "<b>3. What is the most significant distinction between a dictionary and a list?</b>\n",
    "\n",
    "Answer:<br>\n",
    "The most significant distinction between a dictionary and a list is that dictionry has key value pairs and list does not.<br>\n"
   ]
  },
  {
   "cell_type": "markdown",
   "id": "4",
   "metadata": {},
   "source": [
    "<b>4. What happens if you try to access spam['foo'] if spam is {'bar': 100}?</b>\n",
    "\n",
    "Answer:<br>\n",
    "It will show KeyError."
   ]
  },
  {
   "cell_type": "markdown",
   "id": "5",
   "metadata": {},
   "source": [
    "<b>5. If a dictionary is stored in spam, what is the difference between the expressions 'cat' in spam and 'cat' in spam.keys()?</b>\n",
    "\n",
    "Answer:<br>\n",
    "Both the expressions will look for 'cat' in keys of spam.<br>\n",
    "Both the expression will have same vaue."
   ]
  },
  {
   "cell_type": "markdown",
   "id": "6",
   "metadata": {},
   "source": [
    "<b>6. If a dictionary is stored in spam, what is the difference between the expressions 'cat' in spam and 'cat' in spam.values()?</b>\n",
    "\n",
    "Answer:<br>\n",
    "('cat' in spam) will look for 'cat' in keys of spam.<br>\n",
    "('cat' in spam.values()) will look for 'cat' in values of spam."
   ]
  },
  {
   "cell_type": "markdown",
   "id": "7",
   "metadata": {},
   "source": [
    "<b>7. What is a shortcut for the following code?<br> <br>if 'color' not in spam:<br> <br>spam['color'] = 'black'</b>\n",
    "\n",
    "Answer:<br>\n",
    "spam['color']='black' if 'color' not in spam else spam['color']"
   ]
  },
  {
   "cell_type": "markdown",
   "id": "8",
   "metadata": {},
   "source": [
    "<b>8. How do you 'pretty print' dictionary values using which module and function?</b>\n",
    "\n",
    "Answer:<br>\n",
    "We can pretty print dictonaries using dumps function from json module.<br>\n",
    "Example,<br>import json<br> json.dumps(spam)"
   ]
  },
  {
   "cell_type": "code",
   "execution_count": null,
   "id": "8be154a4",
   "metadata": {},
   "outputs": [],
   "source": []
  }
 ],
 "metadata": {
  "kernelspec": {
   "display_name": "Python 3 (ipykernel)",
   "language": "python",
   "name": "python3"
  },
  "language_info": {
   "codemirror_mode": {
    "name": "ipython",
    "version": 3
   },
   "file_extension": ".py",
   "mimetype": "text/x-python",
   "name": "python",
   "nbconvert_exporter": "python",
   "pygments_lexer": "ipython3",
   "version": "3.9.7"
  }
 },
 "nbformat": 4,
 "nbformat_minor": 5
}
