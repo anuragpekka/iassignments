{
 "cells": [
  {
   "cell_type": "markdown",
   "id": "994a9022",
   "metadata": {},
   "source": [
    "## Python_Basic_Assignment_14"
   ]
  },
  {
   "cell_type": "markdown",
   "id": "1",
   "metadata": {},
   "source": [
    "<b>1. What does RGBA stand for?</b><br><br>Answer:<br>\n",
    "RGBA: The RGBA stands for RED, GREEN, BLUE, ALPHA. It is a color format and an extension of the RGB scheme with an added alpha channel that specifies the opacity of the color.\n",
    "In Python RED, GREEN, BLUE, ALPHA take a value 0 to 255"
   ]
  },
  {
   "cell_type": "markdown",
   "id": "2",
   "metadata": {},
   "source": [
    "<b>2. From the Pillow module, how do you get the RGBA value of any images?</b><br><br>Answer:<br>\n",
    "Example to get the RGBA value of all pixels of an image,<br>\n",
    "\n",
    "from PIL import Image<br>\n",
    "imgobj = Image.open(r\"C:/Users/anu/Pictures/gov.PNG\")<br>\n",
    "rgba_values = list(imgobj.getdata())<br>"
   ]
  },
  {
   "cell_type": "markdown",
   "id": "3",
   "metadata": {},
   "source": [
    "<b>3. What is a box tuple, and how does it work?</b><br><br>Answer:<br>\n",
    "The box is a 4-tuple defining the left, upper, right, and lower pixel coordinate.<br>\n",
    "For example, a rectangle covering all of an 800x600 pixel image is written as (0, 0, 800, 600)."
   ]
  },
  {
   "cell_type": "markdown",
   "id": "4",
   "metadata": {},
   "source": [
    "<b>4. Use your image and load in notebook then, How can you find out the width and height of an Image object?</b><br><br>Answer:<br>\n",
    "\n",
    "from PIL import Image<br>\n",
    "\n",
    "imgobj = Image.open(r\"C:/Users/anu/Pictures/gov.PNG\")<br>\n",
    "pixels = imgobj.convert('RGBA')<br>\n",
    "print(imgobj.size)<br>"
   ]
  },
  {
   "cell_type": "markdown",
   "id": "5",
   "metadata": {},
   "source": [
    "<b>5. What method would you call to get Image object for a 100×100 image, excluding the lower-left quarter of it?</b><br><br>Answer:<br>\n",
    "Image.crop"
   ]
  },
  {
   "cell_type": "markdown",
   "id": "6",
   "metadata": {},
   "source": [
    "<b>6. After making changes to an Image object, how could you save it as an image file?</b><br><br>Answer:<br>\n",
    "By using the method,<br>\n",
    "Image.save"
   ]
  },
  {
   "cell_type": "markdown",
   "id": "7",
   "metadata": {},
   "source": [
    "<b>7. What module contains Pillow’s shape-drawing code?</b><br><br>Answer:<br>\n",
    "ImageDraw"
   ]
  },
  {
   "cell_type": "markdown",
   "id": "8",
   "metadata": {},
   "source": [
    "<b>8. Image objects do not have drawing methods. What kind of object does? How do you get this kind of object?</b><br><br>Answer:<br>\n",
    "Objects of class ImageDraw.Draw have drawing methods.\n",
    "\n",
    "To use the Draw class,<br>\n",
    "from PIL import ImageDraw<br>\n",
    "mg1 = ImageDraw.Draw(image) <br>\n",
    "<br>"
   ]
  },
  {
   "cell_type": "code",
   "execution_count": null,
   "id": "377a0dc4",
   "metadata": {},
   "outputs": [],
   "source": []
  }
 ],
 "metadata": {
  "kernelspec": {
   "display_name": "Python 3 (ipykernel)",
   "language": "python",
   "name": "python3"
  },
  "language_info": {
   "codemirror_mode": {
    "name": "ipython",
    "version": 3
   },
   "file_extension": ".py",
   "mimetype": "text/x-python",
   "name": "python",
   "nbconvert_exporter": "python",
   "pygments_lexer": "ipython3",
   "version": "3.9.7"
  }
 },
 "nbformat": 4,
 "nbformat_minor": 5
}
