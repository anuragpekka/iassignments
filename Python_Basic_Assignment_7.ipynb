{
 "cells": [
  {
   "cell_type": "markdown",
   "id": "994a9022",
   "metadata": {},
   "source": [
    "## Python Basic - Assignment 7"
   ]
  },
  {
   "cell_type": "markdown",
   "id": "1",
   "metadata": {},
   "source": [
    "<b>1. What is the name of the feature responsible for generating Regex objects?</b><br><br>Answer:<br>\n",
    "The feature responsible for generating Regex objects is <i>Regular expression</i>."
   ]
  },
  {
   "cell_type": "markdown",
   "id": "2",
   "metadata": {},
   "source": [
    "<b>2. Why do raw strings often appear in Regex objects?</b><br><br>Answer:<br>\n",
    "Raw strings are used in Regex objects so that backslashes do not have to be escaped."
   ]
  },
  {
   "cell_type": "markdown",
   "id": "3",
   "metadata": {},
   "source": [
    "<b>3. What is the return value of the search() method?</b><br><br>Answer:<br>\n",
    "search() method returns a Match object if there is a match anywhere in the string"
   ]
  },
  {
   "cell_type": "markdown",
   "id": "4",
   "metadata": {},
   "source": [
    "<b>4. From a Match item, how do you get the actual strings that match the pattern?</b><br><br>Answer:<br>\n",
    "The Match object has a method group() which returns the part of the string where there was a match"
   ]
  },
  {
   "cell_type": "markdown",
   "id": "5",
   "metadata": {},
   "source": [
    "<b>5. In the regex which created from the  r'(\\d\\d\\d)-(\\d\\d\\d-\\d\\d\\d\\d)', what does group zero cover? <br>Group 2? Group 1?</b><br><br>Answer:<br>\n",
    "group zero covers '(\\d\\d\\d)-(\\d\\d\\d-\\d\\d\\d\\d)'<br>\n",
    "Group 2 covers '(\\d\\d\\d-\\d\\d\\d\\d)'<br>\n",
    "Group 1 covers '(\\d\\d\\d)'<br>"
   ]
  },
  {
   "cell_type": "markdown",
   "id": "6",
   "metadata": {},
   "source": [
    "<b>6. In standard expression syntax, parentheses and intervals have distinct meanings. How can you tell <br>a regex that you want it to fit real parentheses and periods?</b><br><br>Answer:<br>\n",
    "We can tell regex to fit  real parentheses and periods by using backslash(\\\\) before them.<br>\n"
   ]
  },
  {
   "cell_type": "markdown",
   "id": "7",
   "metadata": {},
   "source": [
    "<b>7. The findall() method returns a string list or a list of string tuples. What causes it to return one of <br>the two options?</b><br><br>Answer:<br>\n",
    "The result of findall() depends on the number of capturing groups in the pattern.<br> \n",
    "If there is exactly one group, return a list of strings matching that group.<br>\n",
    "re.findall(r'\\bf[a-z]*', 'which foot or hand fell fastest') returns ['foot', 'fell', 'fastest']<br>\n",
    "\n",
    "If multiple groups are present, return a list of tuples of strings matching the groups.<br>\n",
    "re.findall(r'(\\w+)=(\\d+)', 'set width=20 and height=10') returns [('width', '20'), ('height', '10')]"
   ]
  },
  {
   "cell_type": "markdown",
   "id": "8",
   "metadata": {},
   "source": [
    "<b>8. In standard expressions, what does the | character mean?</b><br><br>Answer:<br>\n",
    "In standard expression | stands for Bitwise OR."
   ]
  },
  {
   "cell_type": "markdown",
   "id": "9",
   "metadata": {},
   "source": [
    "<b>9. In regular expressions, what does the | character stand for?</b><br><br>Answer:<br>\n",
    "In regular expressions | stands for Either-Or."
   ]
  },
  {
   "cell_type": "markdown",
   "id": "10",
   "metadata": {},
   "source": [
    "<b>10. In regular expressions, what is the difference between the + and * characters?</b><br><br>Answer:<br>\n",
    "'+' stands for One or More occurances<br>\n",
    "'*' stands for Zero or More occurances<br>"
   ]
  },
  {
   "cell_type": "markdown",
   "id": "11",
   "metadata": {},
   "source": [
    "<b>11. What is the difference between {4} and {4,5} in regular expression?</b><br><br>Answer:<br>\n",
    "In a regular expression,<br>\n",
    "{4} means match four occurances<br>\n",
    "{4,5} means match four to five occurances<br>"
   ]
  },
  {
   "cell_type": "markdown",
   "id": "12",
   "metadata": {},
   "source": [
    "<b>12. What do you mean by the  \\d, \\w, and \\s shorthand character classes signify in regular <br>expressions?</b><br><br>Answer:<br>\n",
    "\\d matches a digit<br>\n",
    "\\w matches a word character (alphabets, numbers and _ )<br>\n",
    "\\s matches a whitespace character "
   ]
  },
  {
   "cell_type": "markdown",
   "id": "13",
   "metadata": {},
   "source": [
    "<b>13. What do means by \\D, \\W, and \\S shorthand character classes signify in regular expressions?</b><br><br>Answer:<br>\n",
    "\\D matches a character which is not a digit<br>\n",
    "\\W matches a character which is not a word character (alphabets, numbers and _ )<br>\n",
    "\\S matches a character which is not a whitespace character "
   ]
  },
  {
   "cell_type": "markdown",
   "id": "14",
   "metadata": {},
   "source": [
    "<b>14. What is the difference between .&#42;? and .&#42; ?</b><br><br>\n",
    "Answer:<br>\n",
    ".&#42;? will match zero or one occurrance of any character in a given string.<br>\n",
    ".&#42; will match zero or more occurrance of any character.<br>"
   ]
  },
  {
   "cell_type": "markdown",
   "id": "15",
   "metadata": {},
   "source": [
    "<b>15. What is the syntax for matching both numbers and lowercase letters with a character class?</b><br><br>Answer:<br>\n",
    "[0-9a-z]"
   ]
  },
  {
   "cell_type": "markdown",
   "id": "16",
   "metadata": {},
   "source": [
    "<b>16. What is the procedure for making a normal expression in regex case insensitive?</b><br><br>Answer:<br>\n",
    "re.IGNORECASE is passed as an optional argument to re.compile()\n",
    "\n",
    "Example,<br>\n",
    "name = \"Mr. John, mrs. Raveena, mS. Anushka,  mRs. Rani\"<br>\n",
    "regex_name = re.compile(r'(Mrs|Mr|Ms)',re.IGNORECASE)<br>\n",
    "res = regex_name.search(name)<br>"
   ]
  },
  {
   "cell_type": "markdown",
   "id": "17",
   "metadata": {},
   "source": [
    "<b>17. What does the . character normally match? What does it match if re.DOTALL is passed as 2nd <br>argument in re.compile()?</b><br><br>Answer:<br>\n",
    "Dot character(.) normally matches any character except a newline. <br>If the re.DOTALL is passed as 2nd argument in re.compile(), this matches any character including a newline."
   ]
  },
  {
   "cell_type": "markdown",
   "id": "18",
   "metadata": {},
   "source": [
    "<b>18. If numRegex = re.compile(r'\\d+'), what will numRegex.sub('X', '11 drummers, 10 pipers, five rings, 4 hen') return?</b><br><br>Answer:<br>\n",
    "It will replace one or more occurance of digits wth 'X'.<br>\n",
    "Return Value is 'X drummers, X pipers, five rings, X hen'"
   ]
  },
  {
   "cell_type": "markdown",
   "id": "19",
   "metadata": {},
   "source": [
    "<b>19. What does passing re.VERBOSE as the 2nd argument to re.compile() allow to do?</b><br><br>Answer:<br>\n",
    "re.VERBOSE allows you to write regular expressions that look nicer and are more readable by allowing you to visually <br> separate logical sections of the pattern and add comments.\n",
    "<br>Example,<br>\n",
    "regex_email = re.compile(r\"\"\"<br>\n",
    "&emsp;&emsp;&emsp;&emsp;&emsp;^([a-z0-9_\\.-]+)  &emsp;&emsp;# local Part<br>\n",
    "&emsp;&emsp;&emsp;&emsp;&emsp;@                 &emsp;&emsp;&emsp;&emsp;&emsp;&emsp;&emsp;# single @ sign<br>\n",
    "&emsp;&emsp;&emsp;&emsp;&emsp;([0-9a-z\\.-]+)    &emsp;&emsp;&emsp;# Domain name<br>\n",
    "&emsp;&emsp;&emsp;&emsp;&emsp;\\.                &emsp;&emsp;&emsp;&emsp;&emsp;&emsp;&emsp;&emsp;# single Dot .<br>\n",
    "&emsp;&emsp;&emsp;&emsp;&emsp;([a-z]{2,6})$     &emsp;&emsp;&emsp;# Top level Domain <br> \n",
    "&emsp;&emsp;&emsp;&emsp;&emsp;\"\"\", re.VERBOSE | re.IGNORECASE) "
   ]
  },
  {
   "cell_type": "markdown",
   "id": "20",
   "metadata": {},
   "source": [
    "<b>20. How would you write a regex that match a number with comma for every three digits? <br> \n",
    "It must match the given following:<br>\n",
    "    '42'<br>\n",
    "    '1,234'<br>\n",
    "    '6,368,745'<br>    <br>\n",
    "but not the following:<br>\n",
    " '12,34,567' (which has only two digits between the commas)<br>\n",
    "  '1234' (which lacks commas)</b><br><br>\n",
    "Answer:<br>\n",
    "^(\\d{1,3}(,\\d\\d\\d)*)$"
   ]
  },
  {
   "cell_type": "markdown",
   "id": "21",
   "metadata": {},
   "source": [
    "<b>21. How would you write a regex that matches the full name of someone whose last name is Watanabe? <br>You can assume that the first name that comes before it will always be one word that begins with a capital letter.<br> The regex must match the following:<br> <br>'Haruto Watanabe'<br> <br>'Alice Watanabe'<br> <br>'RoboCop Watanabe'<br> <br>but not the following:<br> <br>'haruto Watanabe' (where the first name is not capitalized)<br> <br>'Mr. Watanabe' (where the preceding word has a nonletter character)<br> <br>'Watanabe' (which has no first name)<br> <br>'Haruto watanabe' (where Watanabe is not capitalized)</b><br><br>Answer:<br>\n",
    "^[A-Z][A-Za-z]+ Watanabe$"
   ]
  },
  {
   "cell_type": "markdown",
   "id": "22",
   "metadata": {},
   "source": [
    "<b>22. How would you write a regex that matches a sentence where the first word is either Alice, Bob, <br>or Carol; the second word is either eats, pets, or throws; the third word is apples, cats, or baseballs; <br>and the sentence ends with a period? This regex should be case-insensitive.\n",
    "    It must match the following:<br> <br>\n",
    "    'Alice eats apples.'<br> <br>'Bob pets cats.'<br> <br>'Carol throws baseballs.'<br> <br>'Alice throws Apples.'<br> <br>'BOB EATS CATS.'<br> <br>\n",
    "    but not the following:<br> <br>'RoboCop eats apples.'<br> <br>'ALICE THROWS FOOTBALLS.'<br> <br>'Carol eats 7 cats.'</b><br><br>Answer:<br>\n",
    "(?i)^(Alice|Bob|Carol) (eats|pets|throws) (apples|cats|baseballs)\\.$"
   ]
  },
  {
   "cell_type": "code",
   "execution_count": null,
   "id": "3a44f5df",
   "metadata": {},
   "outputs": [],
   "source": []
  }
 ],
 "metadata": {
  "kernelspec": {
   "display_name": "Python 3 (ipykernel)",
   "language": "python",
   "name": "python3"
  },
  "language_info": {
   "codemirror_mode": {
    "name": "ipython",
    "version": 3
   },
   "file_extension": ".py",
   "mimetype": "text/x-python",
   "name": "python",
   "nbconvert_exporter": "python",
   "pygments_lexer": "ipython3",
   "version": "3.9.7"
  }
 },
 "nbformat": 4,
 "nbformat_minor": 5
}
