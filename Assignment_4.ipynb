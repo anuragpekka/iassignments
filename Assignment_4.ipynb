{
 "cells": [
  {
   "cell_type": "markdown",
   "id": "9c75ad96",
   "metadata": {},
   "source": [
    "## Python Basic - Assignment 4"
   ]
  },
  {
   "cell_type": "markdown",
   "id": "d8ae85e0",
   "metadata": {},
   "source": [
    "<b>1. What exactly is []?\n",
    "    \n",
    "Answer:<br>\n",
    "The [] operator is the indexing operator. It is used for getting the value at an index in sequences, getting the value associated with a key in dictionaries, or obtaining a part of a sequence through slicing. "
   ]
  },
  {
   "cell_type": "markdown",
   "id": "3bd45dd4",
   "metadata": {},
   "source": [
    "<b>2. In a list of values stored in a variable called spam, how would you assign the value 'hello' as the\n",
    "third value? (Assume [2, 4, 6, 8, 10] are in spam.)\n",
    "    \n",
    "Answer:<br>spam[3] = \"hello\"<br>\n",
    "Now spam is [2, 4, 6, \"hello\", 10]"
   ]
  },
  {
   "cell_type": "markdown",
   "id": "f2b53189",
   "metadata": {},
   "source": [
    "<b>Let's pretend the spam includes the list ['a', 'b', 'c', 'd'] for the next three queries."
   ]
  },
  {
   "cell_type": "markdown",
   "id": "c6a1d6f9",
   "metadata": {},
   "source": [
    "<b>3. What is the value of spam[int(int('3' * 2) / 11)]?\n",
    "    \n",
    "Answer:<br>\n",
    "int(int('3' * 2) / 11) will evluate to 3.<br>\n",
    "So, spam[3] is'd'."
   ]
  },
  {
   "cell_type": "markdown",
   "id": "85effc9d",
   "metadata": {},
   "source": [
    "<b>4. What is the value of spam[-1]?\n",
    "\n",
    "Answer:<br>\n",
    "spam[-1] is 'd'"
   ]
  },
  {
   "cell_type": "markdown",
   "id": "603ff83c",
   "metadata": {},
   "source": [
    "<b>5. What is the value of spam[:2]?\n",
    "    \n",
    "Answer:<br>\n",
    "spam[:2] is ['a', 'b']"
   ]
  },
  {
   "cell_type": "markdown",
   "id": "51273264",
   "metadata": {},
   "source": [
    "<b>Let's pretend bacon has the list [3.14, 'cat', 11, 'cat', True] for the next three questions."
   ]
  },
  {
   "cell_type": "markdown",
   "id": "3714a7a3",
   "metadata": {},
   "source": [
    "<b>6. What is the value of bacon.index('cat')?\n",
    "\n",
    "Answer:<br>\n",
    "1"
   ]
  },
  {
   "cell_type": "markdown",
   "id": "10d59017",
   "metadata": {},
   "source": [
    "<b>7. How does bacon.append(99) change the look of the list value in bacon?\n",
    "    \n",
    "Answer:<br>\n",
    " 99 will be added as the last item in list.<br>\n",
    " The new list will be [3.14, 'cat', 11, 'cat', True, 99]"
   ]
  },
  {
   "cell_type": "markdown",
   "id": "c1cbc3aa",
   "metadata": {},
   "source": [
    "<b>8. How does bacon.remove('cat') change the look of the list in bacon?\n",
    "\n",
    "Answer:<br>\n",
    "bacon.remove('cat') will remove the first item in the list that is found to be 'cat'.<br>\n",
    "The new list will be [3.14, 11, 'cat', True]"
   ]
  },
  {
   "cell_type": "markdown",
   "id": "8f8da012",
   "metadata": {},
   "source": [
    "<b>9. What are the list concatenation and list replication operators?\n",
    "\n",
    "Answer:<br>\n",
    "list concatenation operator is <i>extend</i>.<br>\n",
    "list replication operator is <i>copy</i>."
   ]
  },
  {
   "cell_type": "markdown",
   "id": "da8b8ef2",
   "metadata": {},
   "source": [
    "<b>10. What is difference between the list methods append() and insert()?\n",
    "\n",
    "Answer:<br>\n",
    "append() - adds an item to the end of a list. Example, list1.append(\"newItem\")<br>\n",
    "insert() - inserts an item at a given index. Example, list1.insert(3, \"newItem\") "
   ]
  },
  {
   "cell_type": "markdown",
   "id": "090457a5",
   "metadata": {},
   "source": [
    "<b>11. What are the two methods for removing items from a list?\n",
    "\n",
    "Answer:<br>\n",
    "pop() - removes last item and returns it.<br>\n",
    "remove() - removes an item passed as the argument."
   ]
  },
  {
   "cell_type": "markdown",
   "id": "5e0bab8a",
   "metadata": {},
   "source": [
    "<b>12. Describe how list values and string values are identical.\n",
    "    \n",
    "Answer:<br>\n",
    "List values and string values are similar.\n",
    "- Their values are indexed. Individual items can be accesses by indexing operator.\n",
    "- Their slices can be formed using indexing operator."
   ]
  },
  {
   "cell_type": "markdown",
   "id": "40a0bb68",
   "metadata": {},
   "source": [
    "<b>13. What's the difference between tuples and lists?\n",
    "\n",
    "Answer:<br>\n",
    "List are mutable. List item are inside [], example [1, 'abc', 3.4].<br>\n",
    "Tuples are immutable. Tuple items are inside (), example (1, 'abc', 3.4)."
   ]
  },
  {
   "cell_type": "markdown",
   "id": "ff5ee67b",
   "metadata": {},
   "source": [
    "<b>14. How do you type a tuple value that only contains the integer 42?\n",
    "    \n",
    "Answer:<br>\n",
    "(42)"
   ]
  },
  {
   "cell_type": "markdown",
   "id": "5b8b993d",
   "metadata": {},
   "source": [
    "<b>15. How do you get a list value's tuple form? How do you get a tuple value's list form?\n",
    "\n",
    "Answer:<br>\n",
    "list value's tuple form:<br>\n",
    "list1 =  [1, 'abc', 3.4]<br>\n",
    "tuple(list1)<br>\n",
    " \n",
    "tuple value's list form:<br>\n",
    "tup1 = (1, 'abc', 3.4)<br>\n",
    "list(tup1)<br>"
   ]
  },
  {
   "cell_type": "markdown",
   "id": "f8ba51a6",
   "metadata": {},
   "source": [
    "<b>16. Variables that \"contain\" list values are not necessarily lists themselves. Instead, what do they contain?\n",
    "\n",
    "Answer:<br>\n",
    "The list variable is a reference(or pointer) to an instance of a the class <i>list</i>.<br>\n",
    "Example, <br>\n",
    "a = [1,2,5,6]<br>\n",
    "'a' is reference to the object list([1,2,5,6]) of list class."
   ]
  },
  {
   "cell_type": "markdown",
   "id": "bceec841",
   "metadata": {},
   "source": [
    "<b>17. How do you distinguish between copy.copy() and copy.deepcopy()?\n",
    "\n",
    "Answer:<br>\n",
    "The difference between shallow and deep copying is only relevant for compound objects (objects that contain other objects, like lists or class instances).\n",
    "    \n",
    "- A shallow copy constructs a new compound object and then inserts \"the same objects\" into it that the original contains.\n",
    "    \n",
    "- A deep copy constructs a new compound object and then, recursively, inserts \"copies\" into it of the objects found in the original."
   ]
  },
  {
   "cell_type": "code",
   "execution_count": null,
   "id": "be4df631",
   "metadata": {},
   "outputs": [],
   "source": []
  }
 ],
 "metadata": {
  "kernelspec": {
   "display_name": "Python 3 (ipykernel)",
   "language": "python",
   "name": "python3"
  },
  "language_info": {
   "codemirror_mode": {
    "name": "ipython",
    "version": 3
   },
   "file_extension": ".py",
   "mimetype": "text/x-python",
   "name": "python",
   "nbconvert_exporter": "python",
   "pygments_lexer": "ipython3",
   "version": "3.9.7"
  }
 },
 "nbformat": 4,
 "nbformat_minor": 5
}
