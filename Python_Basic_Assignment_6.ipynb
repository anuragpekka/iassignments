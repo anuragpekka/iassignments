{
 "cells": [
  {
   "cell_type": "markdown",
   "id": "994a9022",
   "metadata": {},
   "source": [
    "## Python Basic - Assignment 6"
   ]
  },
  {
   "cell_type": "markdown",
   "id": "1",
   "metadata": {},
   "source": [
    "<b>1. What are escape characters, and how do you use them?</b>\n",
    "\n",
    "Answer:<br>\n",
    "Escape character is used for inserting characters that are illegal in a string.<br>\n",
    "An escape character is a backslash \\ followed by the character you want to insert.<br>\n",
    "An example of an illegal character is a double quote inside a string that is surrounded by double quotes."
   ]
  },
  {
   "cell_type": "markdown",
   "id": "2",
   "metadata": {},
   "source": [
    "<b>2. What do the escape characters n and t stand for?</b>\n",
    "\n",
    "Answer:<br>\n",
    "Escape character n stands for New Line and t stands for Tab."
   ]
  },
  {
   "cell_type": "markdown",
   "id": "3",
   "metadata": {},
   "source": [
    "<b>3. What is the way to include backslash characters in a string?</b>\n",
    "\n",
    "Answer:<br>\n",
    "We can include backslash as \"\\\\\\\\\""
   ]
  },
  {
   "cell_type": "markdown",
   "id": "4",
   "metadata": {},
   "source": [
    "<b>4. The string \"Howl's Moving Castle\" is a correct value. Why isn't the single quote character in the word Howl's not escaped a problem?</b>\n",
    "\n",
    "Answer:<br>\n",
    "The single quote in \"Howl's Moving Castle\" is not a problem because the string is defined inside double quotes.<br>\n",
    "Here double quotes are indicating start and end of the string."
   ]
  },
  {
   "cell_type": "markdown",
   "id": "5",
   "metadata": {},
   "source": [
    "<b>5. How do you write a string of newlines if you don't want to use the n character?</b>\n",
    "\n",
    "Answer:<br>\n",
    "Write the string inside triple quotes(''').<br>\n",
    "Example,<br>\n",
    "s1 = '''This is line 1<br>This is line 2<br>This is line 3'''"
   ]
  },
  {
   "cell_type": "markdown",
   "id": "6",
   "metadata": {},
   "source": [
    "<b>6. What are the values of the given expressions?<br> <br>'Hello, world!'[1]<br> <br>'Hello, world!'[0:5]<br> <br>'Hello, world!'[:5]<br> <br>'Hello, world!'[3:]</b>\n",
    "\n",
    "Answer:<br>\n",
    "'Hello, world!'[1] is 'e'<br>\n",
    "'Hello, world!'[0:5] is 'Hello'<br>\n",
    "'Hello, world!'[:5] is 'Hello'<br>\n",
    "'Hello, world!'[3:] is 'lo, world!'"
   ]
  },
  {
   "cell_type": "markdown",
   "id": "7",
   "metadata": {},
   "source": [
    "<b>7. What are the values of the following expressions?<br> <br>'Hello'.upper()<br> <br>'Hello'.upper().isupper()<br> <br>'Hello'.upper().lower()</b>\n",
    "\n",
    "Answer:<br>\n",
    "'Hello'.upper() is 'HELLO'<br>\n",
    "'Hello'.upper().isupper() is True<br>\n",
    "'Hello'.upper().lower() is 'hello'"
   ]
  },
  {
   "cell_type": "markdown",
   "id": "8",
   "metadata": {},
   "source": [
    "<b>8. What are the values of the following expressions?<br><br>\n",
    "'Remember, remember, the fifth of July.'.split()<br>\n",
    "'-'.join('There can only one.'.split())</b>\n",
    "\n",
    "Answer:<br>\n",
    "<i>'Remember, remember, the fifth of July.'.split()</i>  is  the list ['Remember,', 'remember,', 'the', 'fifth', 'of', 'July.']<br>\n",
    "<i>'-'.join('There can only one.'.split())</i> is the string 'There-can-only-one.'"
   ]
  },
  {
   "cell_type": "markdown",
   "id": "9",
   "metadata": {},
   "source": [
    "<b>9. What are the methods for right-justifying, left-justifying, and centering a string?<br></b>\n",
    "\n",
    "Answer:<br>\n",
    "These functions are :\n",
    "\n",
    "ljust for left-justifying<br>\n",
    "rjust for right-justifying<br>\n",
    "center for centering a string<br>"
   ]
  },
  {
   "cell_type": "markdown",
   "id": "10",
   "metadata": {},
   "source": [
    "<b>10. What is the best way to remove whitespace characters from the start or end?</b>\n",
    "\n",
    "\n",
    "Answer:<br>\n",
    "The best way to remove whitespace characters is strip() function."
   ]
  },
  {
   "cell_type": "code",
   "execution_count": null,
   "id": "260b5f78",
   "metadata": {},
   "outputs": [],
   "source": []
  }
 ],
 "metadata": {
  "kernelspec": {
   "display_name": "Python 3 (ipykernel)",
   "language": "python",
   "name": "python3"
  },
  "language_info": {
   "codemirror_mode": {
    "name": "ipython",
    "version": 3
   },
   "file_extension": ".py",
   "mimetype": "text/x-python",
   "name": "python",
   "nbconvert_exporter": "python",
   "pygments_lexer": "ipython3",
   "version": "3.9.7"
  }
 },
 "nbformat": 4,
 "nbformat_minor": 5
}
