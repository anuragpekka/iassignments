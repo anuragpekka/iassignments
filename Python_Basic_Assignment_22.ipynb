{
 "cells": [
  {
   "cell_type": "markdown",
   "id": "994a9022",
   "metadata": {},
   "source": [
    "## Python_Basic_Assignment_22"
   ]
  },
  {
   "cell_type": "markdown",
   "id": "1",
   "metadata": {},
   "source": [
    "<b>1. What is the result of the code, and explain?<br><br>>>> X = 'iNeuron'<br>>>> def func():<br>print(X)<br><br>>>> func()</b><br><br>Answer:<br>\n",
    "iNeuron<br>\n",
    "\n",
    "The reason being there is no local variable X in func(), so global variable X is printed."
   ]
  },
  {
   "cell_type": "markdown",
   "id": "2",
   "metadata": {},
   "source": [
    "<b>2. What is the result of the code, and explain?<br><br>>>> X = 'iNeuron'<br>>>> def func():<br>X = 'NI!'<br><br>>>> func()<br>>>> print(X)</b>\n",
    "\n",
    "Answer:<br>\n",
    "iNeuron\n",
    "\n",
    "The X defined inside func() has its scope only inside func(). We are printing outside func() so global X is printed."
   ]
  },
  {
   "cell_type": "markdown",
   "id": "3",
   "metadata": {},
   "source": [
    "<b>3. What does this code print, and why?<br><br>>>> X = 'iNeuron'<br>>>> def func():<br>X = 'NI'<br>print(X)<br><br>>>> func()<br>>>> print(X)</b>\n",
    "\n",
    "Answer:<br>\n",
    "NI<br>\n",
    "iNeuron<br>\n",
    "\n",
    "First func() is called, so the local X='NI' inside func() is printed. After that the global X defined outside func() is printed."
   ]
  },
  {
   "cell_type": "markdown",
   "id": "4",
   "metadata": {},
   "source": [
    "<b>4. What output does this code produce? Why?<br><br>>>> X = 'iNeuron'<br>>>> def func():<br>global X<br>X = 'NI'<br><br>>>> func()<br>>>> print(X)</b><br><br>Answer:<br>\n",
    "NI<br>\n",
    "Here, inside func() global keyword is used for X, which means the global X outside func() will be referred."
   ]
  },
  {
   "cell_type": "markdown",
   "id": "5",
   "metadata": {},
   "source": [
    "<b>5. What about this code—what’s the output, and why?<br><br>>>> X = 'iNeuron'<br>>>> def func():<br>&emsp;&emsp;&emsp;X = 'NI'<br>&emsp;&emsp;&emsp;def nested():<br>&emsp;&emsp;&emsp;&emsp;print(X)<br>&emsp;&emsp;&emsp;nested()<br><br>>>> func()<br>>>> X</b>\n",
    "\n",
    "Answer:<br>\n",
    "NI<br>\n",
    "iNeuron<br><br>\n",
    "func() is called which in turn calls nested() and there is no local variable X='NI' defined inside nested() so it prints X defined in func().\n",
    "<br>There is no X defined in global scope(outside all the functions) so it shows error.\n"
   ]
  },
  {
   "cell_type": "markdown",
   "id": "6",
   "metadata": {},
   "source": [
    "<b>6. How about this code: what is its output in Python 3, and explain?<br><br>>>> def func():<br>&emsp;&emsp;X = 'NI'<br>&emsp;&emsp;def nested():<br>&emsp;&emsp;&emsp;nonlocal X<br>&emsp;&emsp;&emsp;X = 'Spam'<br>&emsp;&emsp;nested()<br>&emsp;&emsp;print(X)<br><br>>>> func()</b><br><br>\n",
    "Answer:<br>\n",
    "Spam<br>\n",
    "\n",
    "Inside nested() is 'nonlocal X' which refers to the X outside nested() and defined in func().<br> So, the X='NI' in func() is overwritten when nested() is called."
   ]
  },
  {
   "cell_type": "code",
   "execution_count": null,
   "id": "f81acd7c",
   "metadata": {},
   "outputs": [],
   "source": []
  }
 ],
 "metadata": {
  "kernelspec": {
   "display_name": "Python 3 (ipykernel)",
   "language": "python",
   "name": "python3"
  },
  "language_info": {
   "codemirror_mode": {
    "name": "ipython",
    "version": 3
   },
   "file_extension": ".py",
   "mimetype": "text/x-python",
   "name": "python",
   "nbconvert_exporter": "python",
   "pygments_lexer": "ipython3",
   "version": "3.9.7"
  }
 },
 "nbformat": 4,
 "nbformat_minor": 5
}
