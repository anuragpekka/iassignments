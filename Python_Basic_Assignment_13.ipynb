{
 "cells": [
  {
   "cell_type": "markdown",
   "id": "994a9022",
   "metadata": {},
   "source": [
    "## Python_Basic_Assignment_13"
   ]
  },
  {
   "cell_type": "markdown",
   "id": "1",
   "metadata": {},
   "source": [
    "<b>1. What advantages do Excel spreadsheets have over CSV spreadsheets?</b><br><br>Answer:<br>\n",
    "CSV file can’t perform operations on data while Excel can perform operations on the data.<br>\n",
    "It is easier for the end user to read large files as it is well formatted<br>\n",
    "Excel file can be password protected.<br>\n",
    "Excel also provides the user option for external linking of data from other sources, and also, the user can do custom add-ins."
   ]
  },
  {
   "cell_type": "markdown",
   "id": "2",
   "metadata": {},
   "source": [
    "<b>2. What do you pass to csv.reader() and csv.writer() to create reader and writer objects?</b><br><br>Answer:<br>\n",
    "We pass File objects to csv.reader() and csv.writer()."
   ]
  },
  {
   "cell_type": "markdown",
   "id": "3",
   "metadata": {},
   "source": [
    "<b>3. What modes do File objects for reader and writer objects need to be opened in?</b><br><br>Answer:<br>\n",
    "For readerobjects we need 'r' mode<br>\n",
    "For writer objects we need 'w' mode<br>"
   ]
  },
  {
   "cell_type": "markdown",
   "id": "4",
   "metadata": {},
   "source": [
    "<b>4. What method takes a list argument and writes it to a CSV file?</b><br><br>Answer:<br>\n",
    "<i>writerows</i> method"
   ]
  },
  {
   "cell_type": "markdown",
   "id": "5",
   "metadata": {},
   "source": [
    "<b>5. What do the keyword arguments delimiter and line terminator do?</b><br><br>Answer:<br>\n",
    "<i>Delimiter</i> seperates the fields in a single row<br>\n",
    "<i>Line terminator</i> marks the end of a row"
   ]
  },
  {
   "cell_type": "markdown",
   "id": "6",
   "metadata": {},
   "source": [
    "<b>6. What function takes a string of JSON data and returns a Python data structure?</b><br><br>Answer:<br>\n",
    "json.loads()"
   ]
  },
  {
   "cell_type": "markdown",
   "id": "7",
   "metadata": {},
   "source": [
    "<b>7. What function takes a Python data structure and returns a string of JSON data?</b><br><br>Answer:<br>\n",
    "json.dumps()"
   ]
  }
 ],
 "metadata": {
  "kernelspec": {
   "display_name": "Python 3 (ipykernel)",
   "language": "python",
   "name": "python3"
  },
  "language_info": {
   "codemirror_mode": {
    "name": "ipython",
    "version": 3
   },
   "file_extension": ".py",
   "mimetype": "text/x-python",
   "name": "python",
   "nbconvert_exporter": "python",
   "pygments_lexer": "ipython3",
   "version": "3.9.7"
  }
 },
 "nbformat": 4,
 "nbformat_minor": 5
}
