{
 "cells": [
  {
   "cell_type": "markdown",
   "id": "994a9022",
   "metadata": {},
   "source": [
    "## Python_Basic_Assignment_8"
   ]
  },
  {
   "cell_type": "markdown",
   "id": "1",
   "metadata": {},
   "source": [
    "<b>1. Is the Python Standard Library included with PyInputPlus?</b><br><br>Answer:<br>\n",
    "No, PyInputPlus is not included Python Standard Library."
   ]
  },
  {
   "cell_type": "markdown",
   "id": "2",
   "metadata": {},
   "source": [
    "<b>2. Why is PyInputPlus commonly imported with import pyinputplus as pypi?</b><br><br>Answer:<br>\n",
    "pyinputplus is import as pypi because pypi is shorter to write."
   ]
  },
  {
   "cell_type": "markdown",
   "id": "3",
   "metadata": {},
   "source": [
    "<b>3. How do you distinguish between inputInt() and inputFloat()?</b><br><br>Answer:<br>\n",
    "inputInt() : Accepts an integer value. Returns an int.<br>\n",
    "inputFloat() : Accepts a floating-point numeric value. Returns a float."
   ]
  },
  {
   "cell_type": "markdown",
   "id": "4",
   "metadata": {},
   "source": [
    "<b>4. Using PyInputPlus, how do you ensure that the user enters a whole number between 0 and 99?</b><br><br>Answer:<br>\n",
    "import pyinputplus as ppp<br>\n",
    "inp = ppp.inputInt(prompt = \"Enter an Whole Number between 0 to 99: \", min=0, max=99 )<br>\n"
   ]
  },
  {
   "cell_type": "markdown",
   "id": "5",
   "metadata": {},
   "source": [
    "<b>5. What is transferred to the keyword arguments allowRegexes and blockRegexes?</b><br><br>Answer:<br>\n",
    "<i>allowRegexes</i> allows inputs matching a regex as valid input along with the inputs that are already found valid by the respective function that is used.<br>\n",
    "<i>blockRegexes</i> can block inputs matching a regex."
   ]
  },
  {
   "cell_type": "markdown",
   "id": "6",
   "metadata": {},
   "source": [
    "<b>6. If a blank input is entered three times, what does inputStr(limit=3) do?</b><br><br>Answer:<br>\n",
    "It throws ValidationException and RetryLimitException."
   ]
  },
  {
   "cell_type": "markdown",
   "id": "7",
   "metadata": {},
   "source": [
    "<b>7. If blank input is entered three times, what does inputStr(limit=3, default='hello') do?</b><br><br>Answer:<br>\n",
    "It sets the input value as 'hello'."
   ]
  }
 ],
 "metadata": {
  "kernelspec": {
   "display_name": "Python 3 (ipykernel)",
   "language": "python",
   "name": "python3"
  },
  "language_info": {
   "codemirror_mode": {
    "name": "ipython",
    "version": 3
   },
   "file_extension": ".py",
   "mimetype": "text/x-python",
   "name": "python",
   "nbconvert_exporter": "python",
   "pygments_lexer": "ipython3",
   "version": "3.9.7"
  }
 },
 "nbformat": 4,
 "nbformat_minor": 5
}
