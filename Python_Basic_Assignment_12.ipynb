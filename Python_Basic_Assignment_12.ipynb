{
 "cells": [
  {
   "cell_type": "markdown",
   "id": "994a9022",
   "metadata": {},
   "source": [
    "## Python_Basic_Assignment_12"
   ]
  },
  {
   "cell_type": "markdown",
   "id": "1",
   "metadata": {},
   "source": [
    "<b>1. In what modes should the PdfFileReader() and PdfFileWriter() File objects will be opened?</b><br><br>Answer:<br>\n",
    "PdfFileReader()  - opened in 'rb' mode.<br>\n",
    "PdfFileWriter()  - opened in 'wb' mode."
   ]
  },
  {
   "cell_type": "markdown",
   "id": "2",
   "metadata": {},
   "source": [
    "<b>2. From a PdfFileReader object, how do you get a Page object for page 5?</b><br><br>Answer:<br>\n",
    "pdfReader_object.getPage(5)"
   ]
  },
  {
   "cell_type": "markdown",
   "id": "3",
   "metadata": {},
   "source": [
    "<b>3. What PdfFileReader variable stores the number of pages in the PDF document?</b><br><br>Answer:<br>\n",
    "numPages"
   ]
  },
  {
   "cell_type": "markdown",
   "id": "4",
   "metadata": {},
   "source": [
    "<b>4. If a PdfFileReader object’s PDF is encrypted with the password swordfish, what must you do before you can obtain Page objects from it?</b><br><br>Answer:<br>\n",
    "We must first decrypt the PdfFileReader object using the password swordfish.<br>\n",
    "pdfFileReader_object.decrypt('swordfish')"
   ]
  },
  {
   "cell_type": "markdown",
   "id": "5",
   "metadata": {},
   "source": [
    "<b>5. What methods do you use to rotate a page?</b><br><br>Answer:<br>\n",
    "rotateClockwise and rotateCounterClockwise\n"
   ]
  },
  {
   "cell_type": "markdown",
   "id": "6",
   "metadata": {},
   "source": [
    "<b>6. What is the difference between a Run object and a Paragraph object?</b><br><br>Answer:<br>\n",
    "<i>Run object</i> - Represents <w:r> element, which defines a non-block region of text with a common set of properties.\n",
    "\n",
    "<i>Paragraph object</i> -Represents <w:p> element, which is the main block-level container for content within document."
   ]
  },
  {
   "cell_type": "markdown",
   "id": "7",
   "metadata": {},
   "source": [
    "<b>7. How do you obtain a list of Paragraph objects for a Document object that’s stored in a variable named doc?</b><br><br>Answer:<br>\n",
    "doc.paragraphs"
   ]
  },
  {
   "cell_type": "markdown",
   "id": "8",
   "metadata": {},
   "source": [
    "<b>8. What type of object has bold, underline, italic, strike, and outline variables?</b><br><br>Answer:<br>\n",
    "Run object has bold, underline, italic, strike, and outline variables"
   ]
  },
  {
   "cell_type": "markdown",
   "id": "9",
   "metadata": {},
   "source": [
    "<b>9. What is the difference between False, True, and None for the bold variable?</b><br><br>Answer:<br>\n",
    "<i>True</i> will show the text in Bold (or its ON)<br>\n",
    "<i>False</i> will show the text in Normal (or its OFF)<br>\n",
    "<i>None</i> indicates the property is not specified directly on the run and its effective value is inherited from the style hierarchy."
   ]
  },
  {
   "cell_type": "markdown",
   "id": "10",
   "metadata": {},
   "source": [
    "<b>10. How do you create a Document object for a new Word document?</b><br><br>Answer:<br>\n",
    "doc = docx.Document()"
   ]
  },
  {
   "cell_type": "markdown",
   "id": "11",
   "metadata": {},
   "source": [
    "<b>11. How do you add a paragraph with the text 'Hello, there!' to a Document object stored in a variable named doc?</b><br><br>Answer:<br>\n",
    "  \n",
    "doc_para = doc.add_paragraph('Hello, there!')<br>"
   ]
  },
  {
   "cell_type": "markdown",
   "id": "12",
   "metadata": {},
   "source": [
    "<b>12. What integers represent the levels of headings available in Word documents?</b><br><br>Answer:<br>\n",
    "Integers 0 to 9 represent the levels of headings."
   ]
  },
  {
   "cell_type": "code",
   "execution_count": null,
   "id": "6e113215",
   "metadata": {},
   "outputs": [],
   "source": []
  }
 ],
 "metadata": {
  "kernelspec": {
   "display_name": "Python 3 (ipykernel)",
   "language": "python",
   "name": "python3"
  },
  "language_info": {
   "codemirror_mode": {
    "name": "ipython",
    "version": 3
   },
   "file_extension": ".py",
   "mimetype": "text/x-python",
   "name": "python",
   "nbconvert_exporter": "python",
   "pygments_lexer": "ipython3",
   "version": "3.9.7"
  }
 },
 "nbformat": 4,
 "nbformat_minor": 5
}
