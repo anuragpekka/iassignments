{
 "cells": [
  {
   "cell_type": "markdown",
   "id": "994a9022",
   "metadata": {},
   "source": [
    "## Python_Basic_Assignment_18"
   ]
  },
  {
   "cell_type": "markdown",
   "id": "1",
   "metadata": {},
   "source": [
    "<b>1. Create a zoo.py file first. Define the hours() function, which prints the string 'Open 9-5 daily'. Then, use the interactive interpreter to import the zoo module and call its hours() function.</b><br><br>Answer:<br>\n"
   ]
  },
  {
   "cell_type": "code",
   "execution_count": 2,
   "id": "bffe62f2",
   "metadata": {},
   "outputs": [
    {
     "name": "stdout",
     "output_type": "stream",
     "text": [
      "Open 9-5 daily\n"
     ]
    }
   ],
   "source": [
    "import zoo\n",
    "zoo.hours()"
   ]
  },
  {
   "cell_type": "markdown",
   "id": "2",
   "metadata": {},
   "source": [
    "<b>2. In the interactive interpreter, import the zoo module as menagerie and call its hours() function.</b><br><br>Answer:<br>"
   ]
  },
  {
   "cell_type": "code",
   "execution_count": 3,
   "id": "4f1d4cf9",
   "metadata": {},
   "outputs": [
    {
     "name": "stdout",
     "output_type": "stream",
     "text": [
      "Open 9-5 daily\n"
     ]
    }
   ],
   "source": [
    "import zoo as menagerie\n",
    "menagerie.hours()"
   ]
  },
  {
   "cell_type": "markdown",
   "id": "3",
   "metadata": {},
   "source": [
    "<b>3. Using the interpreter, explicitly import and call the hours() function from zoo.</b><br><br>Answer:<br>"
   ]
  },
  {
   "cell_type": "code",
   "execution_count": 4,
   "id": "b6ab463d",
   "metadata": {},
   "outputs": [
    {
     "name": "stdout",
     "output_type": "stream",
     "text": [
      "Open 9-5 daily\n"
     ]
    }
   ],
   "source": [
    "from zoo import hours\n",
    "hours()"
   ]
  },
  {
   "cell_type": "markdown",
   "id": "4",
   "metadata": {},
   "source": [
    "<b>4. Import the hours() function as info and call it.</b><br><br>Answer:<br>"
   ]
  },
  {
   "cell_type": "code",
   "execution_count": 5,
   "id": "7e7dc530",
   "metadata": {},
   "outputs": [
    {
     "name": "stdout",
     "output_type": "stream",
     "text": [
      "Open 9-5 daily\n"
     ]
    }
   ],
   "source": [
    "from zoo import hours as info\n",
    "info()"
   ]
  },
  {
   "cell_type": "markdown",
   "id": "5",
   "metadata": {},
   "source": [
    "<b>5. Create a plain dictionary with the key-value pairs 'a': 1, 'b': 2, and 'c': 3, and print it out.</b><br><br>Answer:<br>"
   ]
  },
  {
   "cell_type": "code",
   "execution_count": 24,
   "id": "9a7d8ed9",
   "metadata": {},
   "outputs": [
    {
     "name": "stdout",
     "output_type": "stream",
     "text": [
      "{'a': 1, 'c': 3, 'b': 2}\n"
     ]
    }
   ],
   "source": [
    "dict1 = {'a': 1, 'c': 3, 'b': 2 }\n",
    "print(dict1)"
   ]
  },
  {
   "cell_type": "markdown",
   "id": "6",
   "metadata": {},
   "source": [
    "<b>6. Make an OrderedDict called fancy from the same pairs listed in 5 and print it. Did it print in the same order as plain?</b><br><br>Answer:<br>\n",
    "Yes it prints the same order."
   ]
  },
  {
   "cell_type": "code",
   "execution_count": 25,
   "id": "f37015e2",
   "metadata": {},
   "outputs": [
    {
     "name": "stdout",
     "output_type": "stream",
     "text": [
      "OrderedDict([('a', 1), ('c', 3), ('b', 2)])\n"
     ]
    }
   ],
   "source": [
    "from collections import OrderedDict\n",
    "\n",
    "fancy = OrderedDict({'a': 1, 'c': 3, 'b': 2 })\n",
    "print(fancy)"
   ]
  },
  {
   "cell_type": "markdown",
   "id": "7",
   "metadata": {},
   "source": [
    "<b>7. Make a default dictionary called dict_of_lists and pass it the argument list. Make the list dict_of_lists['a'] and append the value 'something for a' to it in one assignment. Print dict_of_lists['a'].</b><br><br>Answer:<br>"
   ]
  },
  {
   "cell_type": "code",
   "execution_count": 15,
   "id": "fc1215ee",
   "metadata": {},
   "outputs": [
    {
     "name": "stdout",
     "output_type": "stream",
     "text": [
      "['something for a']\n"
     ]
    }
   ],
   "source": [
    "from collections import defaultdict\n",
    "dict_of_lists = defaultdict(list)\n",
    "dict_of_lists['a'].append('something for a')\n",
    "print(dict_of_lists['a'])"
   ]
  }
 ],
 "metadata": {
  "kernelspec": {
   "display_name": "Python 3 (ipykernel)",
   "language": "python",
   "name": "python3"
  },
  "language_info": {
   "codemirror_mode": {
    "name": "ipython",
    "version": 3
   },
   "file_extension": ".py",
   "mimetype": "text/x-python",
   "name": "python",
   "nbconvert_exporter": "python",
   "pygments_lexer": "ipython3",
   "version": "3.9.7"
  }
 },
 "nbformat": 4,
 "nbformat_minor": 5
}
